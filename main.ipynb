{
 "cells": [
  {
   "cell_type": "code",
   "execution_count": 11,
   "id": "initial_id",
   "metadata": {
    "ExecuteTime": {
     "end_time": "2024-01-09T18:44:15.300959800Z",
     "start_time": "2024-01-09T18:44:11.814000800Z"
    }
   },
   "outputs": [],
   "source": [
    "from pathlib import Path\n",
    "\n",
    "import nltk\n",
    "import pandas as pd\n",
    "from swifter import set_defaults\n",
    "from sentence_transformers import SentenceTransformer\n",
    "import numpy as np\n",
    "from scipy.spatial import distance\n",
    "from sklearn.cluster import AgglomerativeClustering\n",
    "from sklearn.metrics import silhouette_score\n",
    "from sklearn.metrics import silhouette_samples\n",
    "from sentence_transformers import util"
   ]
  },
  {
   "cell_type": "code",
   "execution_count": 12,
   "id": "dd97b5bd514333ad",
   "metadata": {
    "ExecuteTime": {
     "end_time": "2024-01-09T18:46:15.014465600Z",
     "start_time": "2024-01-09T18:46:15.004954600Z"
    },
    "collapsed": false,
    "jupyter": {
     "outputs_hidden": false
    }
   },
   "outputs": [],
   "source": [
    "DATA_PATH = Path(\"data\")\n",
    "YEAR = 2016\n",
    "MONTH = 2\n",
    "DAY_START = 1\n",
    "DAY_END = 28  # end day is inclusive"
   ]
  },
  {
   "cell_type": "code",
   "execution_count": null,
   "id": "8ec174ff284e4d66",
   "metadata": {
    "ExecuteTime": {
     "end_time": "2024-01-09T18:46:15.981598200Z",
     "start_time": "2024-01-09T18:46:15.779057900Z"
    },
    "collapsed": false,
    "jupyter": {
     "outputs_hidden": false
    },
    "pycharm": {
     "is_executing": true
    }
   },
   "outputs": [],
   "source": [
    "set_defaults(\n",
    "    npartitions=64,\n",
    "    dask_threshold=1,\n",
    "    scheduler=\"processes\",\n",
    "    progress_bar=True,\n",
    "    progress_bar_desc=None,\n",
    "    allow_dask_on_strings=True,\n",
    "    force_parallel=True,\n",
    ")\n",
    "nltk.download(\"punkt\")"
   ]
  },
  {
   "cell_type": "markdown",
   "id": "d2d1b2b5592a8a95",
   "metadata": {
    "collapsed": false,
    "jupyter": {
     "outputs_hidden": false
    }
   },
   "source": [
    "# Wstępna analiza\n",
    "\n",
    "Dane zostały wstępnie przetworzone: pobrano zbiorczy plik csv dla wszystkich lat (2016-2020) a następnie posortowano go po dacie.\n",
    "Artykuły z kolejnych lat zapisano do odpowiednich plików (np. `data/raw/year_2016.csv`).\n",
    "\n",
    "Analiza ta obejmuje następujące kroki:\n",
    "1. Wczytanie danych\n",
    "2. Usunięcie artykułów z pustym tytułem lub treścią\n",
    "3. Wybranie artykułów z wybranego miesiąca i dnia (zakres dat jest w zmiennej DAY_START i DAY_END)\n",
    "4. Usunięcie duplikatów tytułów\n",
    "5. Podsumowanie liczby artykułów"
   ]
  },
  {
   "cell_type": "code",
   "execution_count": null,
   "id": "17e86d695045dc5",
   "metadata": {
    "ExecuteTime": {
     "end_time": "2024-01-06T13:58:29.476935600Z",
     "start_time": "2024-01-06T13:58:18.339618900Z"
    },
    "collapsed": false,
    "jupyter": {
     "outputs_hidden": false
    },
    "pycharm": {
     "is_executing": true
    }
   },
   "outputs": [],
   "source": [
    "raw_df = pd.read_csv(DATA_PATH / f\"/by_year/year_{YEAR}.csv\")"
   ]
  },
  {
   "cell_type": "code",
   "execution_count": null,
   "id": "f731b6fbffc7d5d9",
   "metadata": {
    "ExecuteTime": {
     "end_time": "2024-01-06T13:51:18.173311700Z",
     "start_time": "2024-01-06T13:51:18.138458400Z"
    },
    "collapsed": false,
    "jupyter": {
     "outputs_hidden": false
    }
   },
   "outputs": [],
   "source": [
    "raw_df.describe()"
   ]
  },
  {
   "cell_type": "code",
   "execution_count": null,
   "id": "fbf6028efa8c42a5",
   "metadata": {
    "ExecuteTime": {
     "end_time": "2024-01-06T13:51:22.410513Z",
     "start_time": "2024-01-06T13:51:22.404488500Z"
    },
    "collapsed": false,
    "jupyter": {
     "outputs_hidden": false
    }
   },
   "outputs": [],
   "source": [
    "raw_df.head(100)"
   ]
  },
  {
   "cell_type": "code",
   "execution_count": null,
   "id": "b7cc3aff60abdb9b",
   "metadata": {
    "ExecuteTime": {
     "end_time": "2024-01-06T13:51:45.411627400Z",
     "start_time": "2024-01-06T13:51:45.341346700Z"
    },
    "collapsed": false,
    "jupyter": {
     "outputs_hidden": false
    }
   },
   "outputs": [],
   "source": [
    "# count null in each column\n",
    "raw_df.isnull().sum()"
   ]
  },
  {
   "cell_type": "code",
   "execution_count": null,
   "id": "9b6e623c40cb7281",
   "metadata": {
    "ExecuteTime": {
     "end_time": "2024-01-06T13:58:31.651524800Z",
     "start_time": "2024-01-06T13:58:31.510945700Z"
    },
    "collapsed": false,
    "jupyter": {
     "outputs_hidden": false
    }
   },
   "outputs": [],
   "source": [
    "# drop titles with null values\n",
    "raw_df = raw_df.dropna(subset=[\"title\"])\n",
    "raw_df = raw_df.dropna(subset=[\"article\"])"
   ]
  },
  {
   "cell_type": "code",
   "execution_count": null,
   "id": "516b709afb39f460",
   "metadata": {
    "ExecuteTime": {
     "end_time": "2024-01-06T13:58:32.448827700Z",
     "start_time": "2024-01-06T13:58:32.399664300Z"
    },
    "collapsed": false,
    "jupyter": {
     "outputs_hidden": false
    }
   },
   "outputs": [],
   "source": [
    "df = raw_df[raw_df[\"month\"] == MONTH]\n",
    "df = df[df[\"day\"] <= DAY_END]\n",
    "df = df[df[\"day\"] >= DAY_START]"
   ]
  },
  {
   "cell_type": "code",
   "execution_count": null,
   "id": "cd28c34950bd78ff",
   "metadata": {
    "ExecuteTime": {
     "end_time": "2024-01-06T14:32:18.435695300Z",
     "start_time": "2024-01-06T14:32:18.431822500Z"
    },
    "collapsed": false,
    "jupyter": {
     "outputs_hidden": false
    }
   },
   "outputs": [],
   "source": [
    "df[\"publication\"].value_counts()"
   ]
  },
  {
   "cell_type": "code",
   "execution_count": null,
   "id": "535bc56358e5a1c0",
   "metadata": {
    "ExecuteTime": {
     "end_time": "2024-01-06T13:58:34.930151800Z",
     "start_time": "2024-01-06T13:58:34.864532800Z"
    },
    "collapsed": false,
    "jupyter": {
     "outputs_hidden": false
    }
   },
   "outputs": [],
   "source": [
    "print(f\"Całkowita liczba artykułów: {len(df)}\")\n",
    "df = df.drop_duplicates(subset=[\"title\"])\n",
    "df = df.drop_duplicates(subset=[\"article\"])\n",
    "print(f\"Całkowita liczba artykułów po usunięciu duplikatów tytułów: {len(df)}\")"
   ]
  },
  {
   "cell_type": "markdown",
   "id": "9a74681d1d3a518d",
   "metadata": {
    "collapsed": false,
    "jupyter": {
     "outputs_hidden": false
    }
   },
   "source": [
    "# Utworzenie embeddingów\n",
    "\n",
    "Proces ten obejmuje:\n",
    "1. Pobranie modelu SentenceTransformer na podstawie all-mpnet-base-v2 (https://www.sbert.net/docs/pretrained_models.html)\n",
    "2. Utworzenie embeddingów dla każdego zdania w artykule i zapisanie ich do kolumny 'sentence_embeddings'\n",
    "3. Utworzenie embeddingów dla całego artykułu poprzez uśrednienie embeddingów zdań i zapisanie ich do kolumny 'embedding'\n",
    "4. Odfiltrowanie artykułów, które nie mają embeddingów (zwykle są to artykuły, które nie zawierają żadnych zdań)\n",
    "5. Zapisanie dataframe do pliku parquet, tak aby można było go łatwo wczytać w przyszłości"
   ]
  },
  {
   "cell_type": "code",
   "execution_count": 14,
   "id": "493b0897eee1177c",
   "metadata": {
    "ExecuteTime": {
     "end_time": "2024-01-09T18:54:19.650527900Z",
     "start_time": "2024-01-09T18:54:19.018660100Z"
    },
    "collapsed": false,
    "jupyter": {
     "outputs_hidden": false
    }
   },
   "outputs": [],
   "source": [
    "model = SentenceTransformer(\"all-mpnet-base-v2\")"
   ]
  },
  {
   "cell_type": "code",
   "execution_count": 15,
   "id": "5c82f230f02862c8",
   "metadata": {
    "ExecuteTime": {
     "end_time": "2024-01-06T13:59:02.531513900Z",
     "start_time": "2024-01-06T13:59:02.521008Z"
    },
    "collapsed": false,
    "jupyter": {
     "outputs_hidden": false
    }
   },
   "outputs": [],
   "source": [
    "def get_article_embedding(row):\n",
    "    article = row[\"article\"]\n",
    "    # Split the article into sentences\n",
    "    sentences = nltk.sent_tokenize(article)\n",
    "\n",
    "    # Generate embeddings for each sentence\n",
    "    sentence_embeddings = model.encode(sentences)\n",
    "\n",
    "    # Average the sentence embeddings to get a single vector\n",
    "    article_embedding = np.mean(sentence_embeddings, axis=0)\n",
    "    row[\"embedding\"] = article_embedding\n",
    "    row[\"sentence_embeddings\"] = sentence_embeddings.flatten()\n",
    "\n",
    "    return row"
   ]
  },
  {
   "cell_type": "code",
   "execution_count": null,
   "id": "da5046e09a8da7aa",
   "metadata": {
    "ExecuteTime": {
     "end_time": "2024-01-06T14:28:01.136338Z",
     "start_time": "2024-01-06T13:59:03.613467300Z"
    },
    "collapsed": false,
    "jupyter": {
     "outputs_hidden": false
    },
    "pycharm": {
     "is_executing": true
    }
   },
   "outputs": [],
   "source": [
    "# calculate embeddings for each article using df.apply\n",
    "df = df.swifter.apply(get_article_embedding, axis=1)"
   ]
  },
  {
   "cell_type": "code",
   "execution_count": null,
   "id": "d255ca5e2f8c25eb",
   "metadata": {
    "ExecuteTime": {
     "end_time": "2024-01-06T14:32:30.421059200Z",
     "start_time": "2024-01-06T14:32:30.415109700Z"
    },
    "collapsed": false,
    "jupyter": {
     "outputs_hidden": false
    }
   },
   "outputs": [],
   "source": [
    "df.head(10)"
   ]
  },
  {
   "cell_type": "code",
   "execution_count": null,
   "id": "d185746f94639d5b",
   "metadata": {
    "ExecuteTime": {
     "end_time": "2024-01-06T14:31:31.018260700Z",
     "start_time": "2024-01-06T14:31:30.927343Z"
    },
    "collapsed": false,
    "jupyter": {
     "outputs_hidden": false
    }
   },
   "outputs": [],
   "source": [
    "# make sure every embedding is 768\n",
    "df = df[df[\"embedding\"].apply(lambda x: x.shape) == (768,)]"
   ]
  },
  {
   "cell_type": "code",
   "execution_count": null,
   "id": "e6fbe910ac8b517a",
   "metadata": {
    "ExecuteTime": {
     "end_time": "2024-01-06T14:31:57.726563300Z",
     "start_time": "2024-01-06T14:31:38.018384800Z"
    },
    "collapsed": false,
    "jupyter": {
     "outputs_hidden": false
    }
   },
   "outputs": [],
   "source": [
    "df.to_parquet(DATA_PATH / f\"embedded/{YEAR}_embd.parquet\")"
   ]
  },
  {
   "cell_type": "markdown",
   "id": "6670483ba9c0823",
   "metadata": {
    "collapsed": false,
    "jupyter": {
     "outputs_hidden": false
    }
   },
   "source": [
    "# Klastrowanie na podstawie embeddingów (AgglomerativeClustering)\n",
    "\n",
    "Proces ten obejmuje:\n",
    "1. Wczytanie pliku parquet z embeddingami\n",
    "2. Odfiltrowanie artykułów z wybranego miesiąca i dnia (zakres dat jest w zmiennej DAY_START i DAY_END)\n",
    "3. Utworzenie klastrów za pomocą AgglomerativeClustering (https://scikit-learn.org/stable/modules/generated/sklearn.cluster.AgglomerativeClustering.html)\n",
    "4. Odfiltrowanie klastrów, które zawierają tylko jeden artykuł\n",
    "5. Odfiltrowanie klastrów, w których artykuły pochodzą z tego samego źródła\n",
    "6. Wyświetlenie tytułów artykułów w wybranych klastrach"
   ]
  },
  {
   "cell_type": "code",
   "execution_count": 17,
   "id": "1dcdd8092e9816a1",
   "metadata": {
    "collapsed": false,
    "jupyter": {
     "outputs_hidden": false
    }
   },
   "outputs": [],
   "source": [
    "# read model once again\n",
    "model = SentenceTransformer(\"all-mpnet-base-v2\")"
   ]
  },
  {
   "cell_type": "code",
   "execution_count": 18,
   "id": "a2ba3c919cfc5b19",
   "metadata": {
    "ExecuteTime": {
     "end_time": "2024-01-09T18:46:22.021877500Z",
     "start_time": "2024-01-09T18:46:22.017371100Z"
    },
    "collapsed": false,
    "jupyter": {
     "outputs_hidden": false
    }
   },
   "outputs": [],
   "source": [
    "MONTH = 2\n",
    "DAY_START = 5\n",
    "DAY_END = 5  # end day is inclusive\n",
    "YEAR = 2016"
   ]
  },
  {
   "cell_type": "code",
   "execution_count": 19,
   "id": "19478134cf64420e",
   "metadata": {
    "ExecuteTime": {
     "end_time": "2024-01-09T18:46:32.039820500Z",
     "start_time": "2024-01-09T18:46:23.269613700Z"
    },
    "collapsed": false,
    "jupyter": {
     "outputs_hidden": false
    }
   },
   "outputs": [],
   "source": [
    "df = pd.read_parquet(DATA_PATH / f\"embedded/{YEAR}_embd.parquet\")"
   ]
  },
  {
   "cell_type": "code",
   "execution_count": 20,
   "id": "2b6ddb0e05e5d900",
   "metadata": {
    "ExecuteTime": {
     "end_time": "2024-01-09T18:46:32.981930300Z",
     "start_time": "2024-01-09T18:46:32.947977Z"
    },
    "collapsed": false,
    "jupyter": {
     "outputs_hidden": false
    }
   },
   "outputs": [],
   "source": [
    "# filter date again\n",
    "df = df[df[\"month\"] == MONTH]\n",
    "df = df[df[\"day\"] <= DAY_END]\n",
    "df = df[df[\"day\"] >= DAY_START]"
   ]
  },
  {
   "cell_type": "code",
   "execution_count": 21,
   "id": "70f1bd19cd7eceff",
   "metadata": {
    "ExecuteTime": {
     "end_time": "2024-01-09T18:46:35.191618500Z",
     "start_time": "2024-01-09T18:46:34.922392900Z"
    },
    "collapsed": false,
    "jupyter": {
     "outputs_hidden": false
    }
   },
   "outputs": [],
   "source": [
    "cp_raw = np.vstack(df[\"embedding\"].values)\n",
    "corpus_embeddings = cp_raw / np.linalg.norm(cp_raw, axis=1, keepdims=True)\n",
    "clustering_model = AgglomerativeClustering(\n",
    "    n_clusters=None, distance_threshold=0.2, metric=\"cosine\", linkage=\"average\"\n",
    ")\n",
    "clustering_model.fit(corpus_embeddings)\n",
    "df[\"cluster\"] = clustering_model.labels_"
   ]
  },
  {
   "cell_type": "code",
   "execution_count": 22,
   "id": "778663b18479f131",
   "metadata": {
    "ExecuteTime": {
     "end_time": "2024-01-09T18:46:58.455275800Z",
     "start_time": "2024-01-09T18:46:58.442185300Z"
    },
    "collapsed": false,
    "jupyter": {
     "outputs_hidden": false
    }
   },
   "outputs": [],
   "source": [
    "cluster_publisher_counts = df.groupby(\"cluster\")[\"publication\"].nunique()\n",
    "single_publisher_clusters = cluster_publisher_counts[cluster_publisher_counts == 1].index\n",
    "filtered_df = df[~df[\"cluster\"].isin(single_publisher_clusters)]"
   ]
  },
  {
   "cell_type": "code",
   "execution_count": 23,
   "id": "47cc7507",
   "metadata": {
    "collapsed": false,
    "jupyter": {
     "outputs_hidden": false
    }
   },
   "outputs": [
    {
     "name": "stderr",
     "output_type": "stream",
     "text": [
      "C:\\Users\\User\\AppData\\Local\\Temp\\ipykernel_1700\\2185096312.py:2: SettingWithCopyWarning: \n",
      "A value is trying to be set on a copy of a slice from a DataFrame.\n",
      "Try using .loc[row_indexer,col_indexer] = value instead\n",
      "\n",
      "See the caveats in the documentation: https://pandas.pydata.org/pandas-docs/stable/user_guide/indexing.html#returning-a-view-versus-a-copy\n",
      "  filtered_df['combined']= filtered_df[\"author\"]+filtered_df[\"title\"].str[:15]\n"
     ]
    }
   ],
   "source": [
    "# ograniczenie zestawu danych (w korpusie pojawily sie artykuly tego samego autora do tego samego czasopisma o rozniace sie 1 znakiem w tytule np)\n",
    "filtered_df['combined']= filtered_df[\"author\"]+filtered_df[\"title\"].str[:15]\n",
    "filtered_df = filtered_df.drop_duplicates(subset='combined', keep='first')\n",
    "filtered_df = filtered_df.drop(columns='combined')"
   ]
  },
  {
   "cell_type": "markdown",
   "id": "f1af6a85",
   "metadata": {
    "collapsed": false,
    "jupyter": {
     "outputs_hidden": false
    }
   },
   "source": [
    "# Weryfikacja jakości dokonanego podziału na klastry\n",
    "\n",
    "Do weryfikacji podziału na klastry użyto metryki silhouette score (https://scikit-learn.org/stable/modules/generated/sklearn.metrics.silhouette_score.html).\n",
    "\n",
    "Metryka ta jest obliczana dla każdego punktu na podstawie średniej odległości między próbkami wewnątrz klastra i najbliższego klastra z nim sąsiadującego.\n",
    "Wartość metryki mieści się w przedziale [-1, 1], gdzie wartości bliskie 1 oznaczają, że punkt jest dobrze dopasowany do klastra, a wartości bliskie -1 oznaczają, że punkt jest źle dopasowany do klastra. Wartości bliskie 0 oznaczają, że punkt jest blisko granicy klastra. Jest to rodzaj metryki wewnętrznej, która może być używana do oceny jakości podziału na klastry bez posiadania dodatkowej wiedzy o zbiorach czy etykiet klastrów.\n",
    "\n",
    "W tym kroku:\n",
    "1. Obliczono sumaryczny silhouette score dla wszystkich klastrów.\n",
    "1. Obliczono silhouette score dla każdego artykułu z osobna\n",
    "2. Obliczono silhouette score dla każdego klastra z osobna"
   ]
  },
  {
   "cell_type": "code",
   "execution_count": 24,
   "id": "e66f6a91",
   "metadata": {
    "collapsed": false,
    "jupyter": {
     "outputs_hidden": false
    }
   },
   "outputs": [
    {
     "data": {
      "text/plain": "359"
     },
     "execution_count": 24,
     "metadata": {},
     "output_type": "execute_result"
    }
   ],
   "source": [
    "len(filtered_df)"
   ]
  },
  {
   "cell_type": "code",
   "execution_count": 25,
   "id": "5f4b8528",
   "metadata": {
    "collapsed": false,
    "jupyter": {
     "outputs_hidden": false
    }
   },
   "outputs": [
    {
     "data": {
      "text/plain": "cluster\n12     20\n15     10\n9      10\n328     8\n53      8\nName: count, dtype: int64"
     },
     "execution_count": 25,
     "metadata": {},
     "output_type": "execute_result"
    }
   ],
   "source": [
    "counted_df = filtered_df[\"cluster\"].value_counts()\n",
    "counted_df.head()\n",
    "#print(counted_df[21])\n",
    "#print(\"Liczba klastrów o wielkości 21 wynosi {}\".format(counted_df[counted_df == 132].count()))"
   ]
  },
  {
   "cell_type": "code",
   "execution_count": 26,
   "id": "00c24701",
   "metadata": {
    "collapsed": false,
    "jupyter": {
     "outputs_hidden": false
    }
   },
   "outputs": [
    {
     "name": "stdout",
     "output_type": "stream",
     "text": [
      "Sumaryczny wynik dokładności podziału na klastry dla wszystkich wynosi 0.509\n"
     ]
    }
   ],
   "source": [
    "score1 = silhouette_score(filtered_df[\"embedding\"].tolist(),filtered_df[\"cluster\"].tolist(),metric=\"cosine\",)\n",
    "print(\"Sumaryczny wynik dokładności podziału na klastry dla wszystkich wynosi {:.3f}\".format(score1))"
   ]
  },
  {
   "cell_type": "markdown",
   "id": "f27e9788",
   "metadata": {
    "collapsed": false,
    "jupyter": {
     "outputs_hidden": false
    }
   },
   "source": [
    "Uzyskany wynik sugeruje, że podział na klastry jest raczej dobry, biorąc pod uwagę rozpatrywane zbiory danych."
   ]
  },
  {
   "cell_type": "code",
   "execution_count": 27,
   "id": "9644eabc",
   "metadata": {
    "collapsed": false,
    "jupyter": {
     "outputs_hidden": false
    }
   },
   "outputs": [],
   "source": [
    "# compute the silhouette coefficients for each sample,\n",
    "sample_silhouette_values = silhouette_samples(filtered_df[\"embedding\"].tolist(),filtered_df[\"cluster\"].tolist(),metric=\"cosine\")\n",
    "filtered_df.loc[:, \"silhouette_values\"] = sample_silhouette_values"
   ]
  },
  {
   "cell_type": "code",
   "execution_count": 28,
   "id": "6675f158",
   "metadata": {
    "collapsed": false,
    "jupyter": {
     "outputs_hidden": false
    }
   },
   "outputs": [
    {
     "name": "stdout",
     "output_type": "stream",
     "text": [
      "Silhouette dla próbki 1: 0.7110530138015747\n",
      "Silhouette dla próbki 2: 0.7341523170471191\n",
      "Silhouette dla próbki 3: 0.7950366735458374\n",
      "Silhouette dla próbki 4: 0.20621824264526367\n",
      "Silhouette dla próbki 5: 0.4333049952983856\n",
      "Silhouette dla próbki 6: 0.6667561531066895\n",
      "Silhouette dla próbki 7: 0.7558681964874268\n",
      "Silhouette dla próbki 8: 0.5175563097000122\n",
      "Silhouette dla próbki 9: 0.704115629196167\n",
      "Silhouette dla próbki 10: 0.7456156611442566\n",
      "Silhouette dla próbki 11: 0.8234489560127258\n",
      "Silhouette dla próbki 12: 0.7087992429733276\n",
      "Silhouette dla próbki 13: 0.9721491932868958\n",
      "Silhouette dla próbki 14: 0.7580787539482117\n",
      "Silhouette dla próbki 15: 0.7275242209434509\n",
      "Silhouette dla próbki 16: 0.7400155067443848\n",
      "Silhouette dla próbki 17: 0.7437456250190735\n",
      "Silhouette dla próbki 18: 0.7646558284759521\n",
      "Silhouette dla próbki 19: 0.42971307039260864\n",
      "Silhouette dla próbki 20: 0.779112696647644\n",
      "Silhouette dla próbki 21: 0.6154232025146484\n",
      "Silhouette dla próbki 22: 0.35774052143096924\n",
      "Silhouette dla próbki 23: 0.7771936058998108\n",
      "Silhouette dla próbki 24: 0.24025727808475494\n",
      "Silhouette dla próbki 25: 0.7654808163642883\n",
      "Silhouette dla próbki 26: 0.281614750623703\n",
      "Silhouette dla próbki 27: 0.5066043734550476\n",
      "Silhouette dla próbki 28: 0.7533852458000183\n",
      "Silhouette dla próbki 29: 0.6912026405334473\n",
      "Silhouette dla próbki 30: 0.8010242581367493\n",
      "Silhouette dla próbki 31: 0.8335263729095459\n",
      "Silhouette dla próbki 32: 0.5643137097358704\n",
      "Silhouette dla próbki 33: 0.6641228199005127\n",
      "Silhouette dla próbki 34: 0.7596532702445984\n",
      "Silhouette dla próbki 35: 0.7824823260307312\n",
      "Silhouette dla próbki 36: 0.35470807552337646\n",
      "Silhouette dla próbki 37: -0.04249032959342003\n",
      "Silhouette dla próbki 38: 0.5469507575035095\n",
      "Silhouette dla próbki 39: 0.7506412267684937\n",
      "Silhouette dla próbki 40: 0.7371877431869507\n",
      "Silhouette dla próbki 41: 0.786366879940033\n",
      "Silhouette dla próbki 42: 0.0\n",
      "Silhouette dla próbki 43: 0.14352205395698547\n",
      "Silhouette dla próbki 44: 0.7827484607696533\n",
      "Silhouette dla próbki 45: 0.0465548038482666\n",
      "Silhouette dla próbki 46: 0.7023049592971802\n",
      "Silhouette dla próbki 47: 0.7667879462242126\n",
      "Silhouette dla próbki 48: 0.7983161807060242\n",
      "Silhouette dla próbki 49: 0.16239261627197266\n",
      "Silhouette dla próbki 50: 0.45266133546829224\n",
      "Silhouette dla próbki 51: 0.0\n",
      "Silhouette dla próbki 52: 0.5144113302230835\n",
      "Silhouette dla próbki 53: 0.7400749921798706\n",
      "Silhouette dla próbki 54: 0.662918210029602\n",
      "Silhouette dla próbki 55: 0.42617473006248474\n",
      "Silhouette dla próbki 56: 0.6720737814903259\n",
      "Silhouette dla próbki 57: 0.6123210191726685\n",
      "Silhouette dla próbki 58: 0.5711908340454102\n",
      "Silhouette dla próbki 59: 0.0\n",
      "Silhouette dla próbki 60: 0.6663115620613098\n",
      "Silhouette dla próbki 61: 0.4136092960834503\n",
      "Silhouette dla próbki 62: 0.2625712752342224\n",
      "Silhouette dla próbki 63: -0.07893345504999161\n",
      "Silhouette dla próbki 64: 0.2947731018066406\n",
      "Silhouette dla próbki 65: 0.2750696837902069\n",
      "Silhouette dla próbki 66: 0.2104506939649582\n",
      "Silhouette dla próbki 67: 0.6278740763664246\n",
      "Silhouette dla próbki 68: 0.16444888710975647\n",
      "Silhouette dla próbki 69: 0.30288445949554443\n",
      "Silhouette dla próbki 70: 0.391235888004303\n",
      "Silhouette dla próbki 71: 0.01558668538928032\n",
      "Silhouette dla próbki 72: 0.4383983016014099\n",
      "Silhouette dla próbki 73: 0.8160098195075989\n",
      "Silhouette dla próbki 74: 0.8248116970062256\n",
      "Silhouette dla próbki 75: 0.3886603116989136\n",
      "Silhouette dla próbki 76: 0.7117176651954651\n",
      "Silhouette dla próbki 77: 0.4386261999607086\n",
      "Silhouette dla próbki 78: 0.6011739373207092\n",
      "Silhouette dla próbki 79: 0.29678529500961304\n",
      "Silhouette dla próbki 80: 0.24505411088466644\n",
      "Silhouette dla próbki 81: 0.0\n",
      "Silhouette dla próbki 82: 0.20706993341445923\n",
      "Silhouette dla próbki 83: 0.8011159896850586\n",
      "Silhouette dla próbki 84: 0.6745847463607788\n",
      "Silhouette dla próbki 85: 0.6702244281768799\n",
      "Silhouette dla próbki 86: 0.20306672155857086\n",
      "Silhouette dla próbki 87: -0.13409364223480225\n",
      "Silhouette dla próbki 88: 0.5474885106086731\n",
      "Silhouette dla próbki 89: 0.5805893540382385\n",
      "Silhouette dla próbki 90: 0.7121609449386597\n",
      "Silhouette dla próbki 91: 0.7947308421134949\n",
      "Silhouette dla próbki 92: 0.6974543333053589\n",
      "Silhouette dla próbki 93: 0.0\n",
      "Silhouette dla próbki 94: 0.0\n",
      "Silhouette dla próbki 95: 0.5788518786430359\n",
      "Silhouette dla próbki 96: 0.7163410186767578\n",
      "Silhouette dla próbki 97: 0.5098956227302551\n",
      "Silhouette dla próbki 98: 0.6189289093017578\n",
      "Silhouette dla próbki 99: 0.26192009449005127\n",
      "Silhouette dla próbki 100: 0.6546617150306702\n",
      "Silhouette dla próbki 101: -0.0022366761695593596\n",
      "Silhouette dla próbki 102: 0.5429491996765137\n",
      "Silhouette dla próbki 103: 0.6210513114929199\n",
      "Silhouette dla próbki 104: 0.5807482600212097\n",
      "Silhouette dla próbki 105: 0.32454055547714233\n",
      "Silhouette dla próbki 106: 0.7707222104072571\n",
      "Silhouette dla próbki 107: 0.4505910277366638\n",
      "Silhouette dla próbki 108: 0.3907930850982666\n",
      "Silhouette dla próbki 109: 0.3368814289569855\n",
      "Silhouette dla próbki 110: 0.44929149746894836\n",
      "Silhouette dla próbki 111: 0.3892821967601776\n",
      "Silhouette dla próbki 112: 0.20815743505954742\n",
      "Silhouette dla próbki 113: 0.793581485748291\n",
      "Silhouette dla próbki 114: -0.27833133935928345\n",
      "Silhouette dla próbki 115: 0.8539382815361023\n",
      "Silhouette dla próbki 116: 0.08456870913505554\n",
      "Silhouette dla próbki 117: 0.0\n",
      "Silhouette dla próbki 118: 0.18667525053024292\n",
      "Silhouette dla próbki 119: 0.3430255055427551\n",
      "Silhouette dla próbki 120: 0.31655505299568176\n",
      "Silhouette dla próbki 121: 0.8147341012954712\n",
      "Silhouette dla próbki 122: 0.6662077307701111\n",
      "Silhouette dla próbki 123: 0.6562848091125488\n",
      "Silhouette dla próbki 124: 0.7818725109100342\n",
      "Silhouette dla próbki 125: 0.7949494123458862\n",
      "Silhouette dla próbki 126: 0.6206008791923523\n",
      "Silhouette dla próbki 127: 0.6162550449371338\n",
      "Silhouette dla próbki 128: 0.7520851492881775\n",
      "Silhouette dla próbki 129: 0.8566669225692749\n",
      "Silhouette dla próbki 130: 0.7903338074684143\n",
      "Silhouette dla próbki 131: 0.7119141221046448\n",
      "Silhouette dla próbki 132: 0.758265495300293\n",
      "Silhouette dla próbki 133: 0.7440065741539001\n",
      "Silhouette dla próbki 134: 0.7798502445220947\n",
      "Silhouette dla próbki 135: 0.7874380946159363\n",
      "Silhouette dla próbki 136: 0.6289144158363342\n",
      "Silhouette dla próbki 137: 0.7942807674407959\n",
      "Silhouette dla próbki 138: 0.7803833484649658\n",
      "Silhouette dla próbki 139: 0.8077316880226135\n",
      "Silhouette dla próbki 140: 0.749762237071991\n",
      "Silhouette dla próbki 141: 0.47986048460006714\n",
      "Silhouette dla próbki 142: 0.771225094795227\n",
      "Silhouette dla próbki 143: 0.18723319470882416\n",
      "Silhouette dla próbki 144: 0.5054305195808411\n",
      "Silhouette dla próbki 145: 0.6667251586914062\n",
      "Silhouette dla próbki 146: 0.778643012046814\n",
      "Silhouette dla próbki 147: 0.7913886308670044\n",
      "Silhouette dla próbki 148: 0.7255125045776367\n",
      "Silhouette dla próbki 149: 0.7793377041816711\n",
      "Silhouette dla próbki 150: 0.7236239910125732\n",
      "Silhouette dla próbki 151: 0.20372642576694489\n",
      "Silhouette dla próbki 152: 0.20988470315933228\n",
      "Silhouette dla próbki 153: 0.5200687050819397\n",
      "Silhouette dla próbki 154: 0.6654783487319946\n",
      "Silhouette dla próbki 155: 0.7418131828308105\n",
      "Silhouette dla próbki 156: 0.6123597025871277\n",
      "Silhouette dla próbki 157: 0.6782515048980713\n",
      "Silhouette dla próbki 158: 0.0\n",
      "Silhouette dla próbki 159: 0.7561051845550537\n",
      "Silhouette dla próbki 160: 0.7314612865447998\n",
      "Silhouette dla próbki 161: -0.02235216274857521\n",
      "Silhouette dla próbki 162: 0.7410486936569214\n",
      "Silhouette dla próbki 163: 0.6850749254226685\n",
      "Silhouette dla próbki 164: 0.5844230651855469\n",
      "Silhouette dla próbki 165: 0.4590457081794739\n",
      "Silhouette dla próbki 166: 0.0\n",
      "Silhouette dla próbki 167: 0.31359562277793884\n",
      "Silhouette dla próbki 168: 0.29346445202827454\n",
      "Silhouette dla próbki 169: 0.8583424687385559\n",
      "Silhouette dla próbki 170: 0.2827678918838501\n",
      "Silhouette dla próbki 171: 0.3542845547199249\n",
      "Silhouette dla próbki 172: 0.7968884706497192\n",
      "Silhouette dla próbki 173: 0.09880458563566208\n",
      "Silhouette dla próbki 174: 0.690048098564148\n",
      "Silhouette dla próbki 175: 0.6105623841285706\n",
      "Silhouette dla próbki 176: 0.49371060729026794\n",
      "Silhouette dla próbki 177: 0.48194631934165955\n",
      "Silhouette dla próbki 178: 0.8378629684448242\n",
      "Silhouette dla próbki 179: 0.3919692933559418\n",
      "Silhouette dla próbki 180: 0.2210465967655182\n",
      "Silhouette dla próbki 181: 0.29409298300743103\n",
      "Silhouette dla próbki 182: 0.5799137949943542\n",
      "Silhouette dla próbki 183: 0.2374551147222519\n",
      "Silhouette dla próbki 184: 0.2564076781272888\n",
      "Silhouette dla próbki 185: 0.7298876047134399\n",
      "Silhouette dla próbki 186: 0.307362824678421\n",
      "Silhouette dla próbki 187: -0.0061761559918522835\n",
      "Silhouette dla próbki 188: 0.7001996040344238\n",
      "Silhouette dla próbki 189: 0.7404319643974304\n",
      "Silhouette dla próbki 190: 0.6256787180900574\n",
      "Silhouette dla próbki 191: 0.0\n",
      "Silhouette dla próbki 192: 0.19713160395622253\n",
      "Silhouette dla próbki 193: 0.7588075995445251\n",
      "Silhouette dla próbki 194: 0.6261617541313171\n",
      "Silhouette dla próbki 195: 0.1981562227010727\n",
      "Silhouette dla próbki 196: 0.7630680799484253\n",
      "Silhouette dla próbki 197: 0.7988306879997253\n",
      "Silhouette dla próbki 198: 0.7877921462059021\n",
      "Silhouette dla próbki 199: 0.7131687998771667\n",
      "Silhouette dla próbki 200: 0.47800055146217346\n",
      "Silhouette dla próbki 201: 0.007539825048297644\n",
      "Silhouette dla próbki 202: 0.7335584759712219\n",
      "Silhouette dla próbki 203: 0.31905195116996765\n",
      "Silhouette dla próbki 204: 0.12198053300380707\n",
      "Silhouette dla próbki 205: 0.6856527328491211\n",
      "Silhouette dla próbki 206: 0.8249703645706177\n",
      "Silhouette dla próbki 207: 0.4557935297489166\n",
      "Silhouette dla próbki 208: 0.5682145953178406\n",
      "Silhouette dla próbki 209: 0.6922971606254578\n",
      "Silhouette dla próbki 210: 0.6770355105400085\n",
      "Silhouette dla próbki 211: 0.0\n",
      "Silhouette dla próbki 212: 0.24964167177677155\n",
      "Silhouette dla próbki 213: 0.6399357914924622\n",
      "Silhouette dla próbki 214: 0.2748064696788788\n",
      "Silhouette dla próbki 215: 0.37163016200065613\n",
      "Silhouette dla próbki 216: 0.5363659858703613\n",
      "Silhouette dla próbki 217: 0.593289315700531\n",
      "Silhouette dla próbki 218: 0.3580789864063263\n",
      "Silhouette dla próbki 219: 0.23342111706733704\n",
      "Silhouette dla próbki 220: 0.33360984921455383\n",
      "Silhouette dla próbki 221: 0.5468708276748657\n",
      "Silhouette dla próbki 222: 0.191598579287529\n",
      "Silhouette dla próbki 223: 0.725411593914032\n",
      "Silhouette dla próbki 224: 0.668079674243927\n",
      "Silhouette dla próbki 225: 0.6057372689247131\n",
      "Silhouette dla próbki 226: 0.6473856568336487\n",
      "Silhouette dla próbki 227: 0.43692314624786377\n",
      "Silhouette dla próbki 228: 0.4661666452884674\n",
      "Silhouette dla próbki 229: 0.48905131220817566\n",
      "Silhouette dla próbki 230: 0.3072892129421234\n",
      "Silhouette dla próbki 231: 0.7237946391105652\n",
      "Silhouette dla próbki 232: 0.6312228441238403\n",
      "Silhouette dla próbki 233: 0.3958521783351898\n",
      "Silhouette dla próbki 234: 0.4032190442085266\n",
      "Silhouette dla próbki 235: 0.6786895990371704\n",
      "Silhouette dla próbki 236: 0.25025469064712524\n",
      "Silhouette dla próbki 237: 0.7018101811408997\n",
      "Silhouette dla próbki 238: 0.5266897678375244\n",
      "Silhouette dla próbki 239: 0.4147711396217346\n",
      "Silhouette dla próbki 240: 0.44087252020835876\n",
      "Silhouette dla próbki 241: 0.6768896579742432\n",
      "Silhouette dla próbki 242: -0.022488001734018326\n",
      "Silhouette dla próbki 243: 0.41515639424324036\n",
      "Silhouette dla próbki 244: 0.6776929497718811\n",
      "Silhouette dla próbki 245: 0.6393473148345947\n",
      "Silhouette dla próbki 246: 0.48866820335388184\n",
      "Silhouette dla próbki 247: 0.1228722408413887\n",
      "Silhouette dla próbki 248: 0.2713678777217865\n",
      "Silhouette dla próbki 249: 0.8615314364433289\n",
      "Silhouette dla próbki 250: 0.5646225810050964\n",
      "Silhouette dla próbki 251: 0.03962671011686325\n",
      "Silhouette dla próbki 252: 0.13133876025676727\n",
      "Silhouette dla próbki 253: 0.764936089515686\n",
      "Silhouette dla próbki 254: 0.7181144952774048\n",
      "Silhouette dla próbki 255: 0.3144300878047943\n",
      "Silhouette dla próbki 256: 0.0\n",
      "Silhouette dla próbki 257: 0.0\n",
      "Silhouette dla próbki 258: 0.010576815344393253\n",
      "Silhouette dla próbki 259: 0.0\n",
      "Silhouette dla próbki 260: 0.362247496843338\n",
      "Silhouette dla próbki 261: 0.7771610617637634\n",
      "Silhouette dla próbki 262: 0.0\n",
      "Silhouette dla próbki 263: 0.8193963766098022\n",
      "Silhouette dla próbki 264: 0.7697969675064087\n",
      "Silhouette dla próbki 265: 0.15586675703525543\n",
      "Silhouette dla próbki 266: 0.23685453832149506\n",
      "Silhouette dla próbki 267: 0.04045786336064339\n",
      "Silhouette dla próbki 268: 0.5460155010223389\n",
      "Silhouette dla próbki 269: 0.14666828513145447\n",
      "Silhouette dla próbki 270: 0.4351806640625\n",
      "Silhouette dla próbki 271: 0.7753918170928955\n",
      "Silhouette dla próbki 272: 0.354968398809433\n",
      "Silhouette dla próbki 273: 0.4468376338481903\n",
      "Silhouette dla próbki 274: 0.7748829126358032\n",
      "Silhouette dla próbki 275: 0.7559503316879272\n",
      "Silhouette dla próbki 276: 0.7344030141830444\n",
      "Silhouette dla próbki 277: 0.12284929305315018\n",
      "Silhouette dla próbki 278: 0.30534353852272034\n",
      "Silhouette dla próbki 279: 0.6238390803337097\n",
      "Silhouette dla próbki 280: 0.7076476216316223\n",
      "Silhouette dla próbki 281: 0.7693472504615784\n",
      "Silhouette dla próbki 282: 0.6604046821594238\n",
      "Silhouette dla próbki 283: 0.7107035517692566\n",
      "Silhouette dla próbki 284: 0.0\n",
      "Silhouette dla próbki 285: -0.011660795658826828\n",
      "Silhouette dla próbki 286: 0.7724302411079407\n",
      "Silhouette dla próbki 287: 0.7185390591621399\n",
      "Silhouette dla próbki 288: 0.583509624004364\n",
      "Silhouette dla próbki 289: 0.6063746809959412\n",
      "Silhouette dla próbki 290: 0.6249435544013977\n",
      "Silhouette dla próbki 291: 0.5195011496543884\n",
      "Silhouette dla próbki 292: 0.7855299115180969\n",
      "Silhouette dla próbki 293: 0.7408486604690552\n",
      "Silhouette dla próbki 294: 0.972147524356842\n",
      "Silhouette dla próbki 295: 0.558439314365387\n",
      "Silhouette dla próbki 296: 0.6823632717132568\n",
      "Silhouette dla próbki 297: 0.5849575400352478\n",
      "Silhouette dla próbki 298: 0.6243893504142761\n",
      "Silhouette dla próbki 299: 0.5749565362930298\n",
      "Silhouette dla próbki 300: 0.018008152022957802\n",
      "Silhouette dla próbki 301: 0.7336140275001526\n",
      "Silhouette dla próbki 302: 0.39930111169815063\n",
      "Silhouette dla próbki 303: 0.5349896550178528\n",
      "Silhouette dla próbki 304: 0.6371887922286987\n",
      "Silhouette dla próbki 305: 0.0\n",
      "Silhouette dla próbki 306: 0.6224044561386108\n",
      "Silhouette dla próbki 307: 0.7968440651893616\n",
      "Silhouette dla próbki 308: 0.1935020089149475\n",
      "Silhouette dla próbki 309: 0.803056001663208\n",
      "Silhouette dla próbki 310: 0.6491735577583313\n",
      "Silhouette dla próbki 311: 0.0\n",
      "Silhouette dla próbki 312: 0.7131353616714478\n",
      "Silhouette dla próbki 313: 0.6594439148902893\n",
      "Silhouette dla próbki 314: 0.6617593169212341\n",
      "Silhouette dla próbki 315: 0.6984354257583618\n",
      "Silhouette dla próbki 316: 0.7008637189865112\n",
      "Silhouette dla próbki 317: 0.7548328042030334\n",
      "Silhouette dla próbki 318: 0.6564076542854309\n",
      "Silhouette dla próbki 319: 0.8243087530136108\n",
      "Silhouette dla próbki 320: 0.7464978694915771\n",
      "Silhouette dla próbki 321: 0.6336780190467834\n",
      "Silhouette dla próbki 322: 0.7447945475578308\n",
      "Silhouette dla próbki 323: 0.6102415919303894\n",
      "Silhouette dla próbki 324: 0.7053467631340027\n",
      "Silhouette dla próbki 325: 0.5471000075340271\n",
      "Silhouette dla próbki 326: 0.22849991917610168\n",
      "Silhouette dla próbki 327: 0.5040271878242493\n",
      "Silhouette dla próbki 328: 0.7892203330993652\n",
      "Silhouette dla próbki 329: 0.3121345639228821\n",
      "Silhouette dla próbki 330: 0.7784402966499329\n",
      "Silhouette dla próbki 331: 0.415753573179245\n",
      "Silhouette dla próbki 332: 0.6773620247840881\n",
      "Silhouette dla próbki 333: 0.6314370036125183\n",
      "Silhouette dla próbki 334: 0.3497844636440277\n",
      "Silhouette dla próbki 335: 0.6542861461639404\n",
      "Silhouette dla próbki 336: 0.0\n",
      "Silhouette dla próbki 337: 0.4672204256057739\n",
      "Silhouette dla próbki 338: 0.715911865234375\n",
      "Silhouette dla próbki 339: 0.7638776898384094\n",
      "Silhouette dla próbki 340: 0.5085576772689819\n",
      "Silhouette dla próbki 341: 0.7384557127952576\n",
      "Silhouette dla próbki 342: 0.6759904623031616\n",
      "Silhouette dla próbki 343: 0.0\n",
      "Silhouette dla próbki 344: 0.40896570682525635\n",
      "Silhouette dla próbki 345: 0.6109603047370911\n",
      "Silhouette dla próbki 346: 0.20614132285118103\n",
      "Silhouette dla próbki 347: 0.4872491955757141\n",
      "Silhouette dla próbki 348: 0.8151916265487671\n",
      "Silhouette dla próbki 349: -0.11220533400774002\n",
      "Silhouette dla próbki 350: 0.7900764346122742\n",
      "Silhouette dla próbki 351: 0.7197344899177551\n",
      "Silhouette dla próbki 352: 0.4978034198284149\n",
      "Silhouette dla próbki 353: 0.1934518963098526\n",
      "Silhouette dla próbki 354: 0.2054777443408966\n",
      "Silhouette dla próbki 355: 0.0\n",
      "Silhouette dla próbki 356: 0.8188241720199585\n",
      "Silhouette dla próbki 357: 0.0\n",
      "Silhouette dla próbki 358: 0.5624089241027832\n",
      "Silhouette dla próbki 359: 0.8187257051467896\n"
     ]
    }
   ],
   "source": [
    "# Wyświetlenie silhouette samples\n",
    "for i, silhouette_value in enumerate(sample_silhouette_values):\n",
    "    print(f\"Silhouette dla próbki {i+1}: {silhouette_value}\")"
   ]
  },
  {
   "cell_type": "code",
   "execution_count": 29,
   "id": "77093c7c",
   "metadata": {
    "collapsed": false,
    "jupyter": {
     "outputs_hidden": false
    }
   },
   "outputs": [
    {
     "data": {
      "text/plain": "                      date  year  month  day             author  \\\n56284           2016-02-05  2016    2.0    5      Kelly Diamond   \n56291           2016-02-05  2016    2.0    5               None   \n56294           2016-02-05  2016    2.0    5   David Shepardson   \n56310           2016-02-05  2016    2.0    5      Gina Cherelus   \n56311           2016-02-05  2016    2.0    5       Eric Auchard   \n...                    ...   ...    ...  ...                ...   \n58234  2016-02-05 22:51:38  2016    2.0    5       Margalit Fox   \n58235  2016-02-05 22:52:12  2016    2.0    5  Richard Goldstein   \n58238  2016-02-05 22:59:22  2016    2.0    5         Andrew Keh   \n58241  2016-02-05 23:10:00  2016    2.0    5     Mike Piellucci   \n58242  2016-02-05 23:10:02  2016    2.0    5  Jennifer Williams   \n\n                                                   title  \\\n56284  Ben Stiller unveils world's largest selfie sti...   \n56291  Famous Japan volcano erupts spectacularly with...   \n56294       U.S. traffic deaths increase sharply in 2015   \n56310  Huge construction crane collapses in Manhattan...   \n56311  Showdown in Europe over privacy has U.S. firms...   \n...                                                  ...   \n58234  Lorna Jorgenson Wendt, 72, Defender of Rights ...   \n58235  Edgar D. Mitchell, Sixth Moonwalking Astronaut...   \n58238  Without Carmelo Anthony, Knicks Put Up a Valia...   \n58241  How Troy University Became An Unlikely Breedin...   \n58242  Why the UN ruled Julian Assange is being “arbi...   \n\n                                                 article  \\\n56284  The world just welcomed its newest record: The...   \n56291   A well-known volcano erupted Friday evening i...   \n56294  WASHINGTON, Feb 5 (Reuters) - Traffic deaths i...   \n56310  NEW YORK (Reuters) - A construction crane coll...   \n56311  FRANKFURT (Reuters) - The free flow of data ac...   \n...                                                  ...   \n58234  Lorna Jorgenson Wendt, whose high-stakes, high...   \n58235  Edgar D. Mitchell, who became the sixth man to...   \n58238  Grizzlies 91, Knicks 85 Carmelo Anthony was hu...   \n58241  This feature is part of Super Bowl Week at VIC...   \n58242  WikiLeaks founder Julian Assange might live in...   \n\n                                                     url          section  \\\n56284  https://mashable.com/2016/02/05/ben-stiller-se...             None   \n56291  https://mashable.com/2016/02/05/japan-volcano-...             None   \n56294  http://www.reuters.com/article/usa-trafficdeat...            Intel   \n56310  http://www.reuters.com/article/us-new-york-cra...             U.S.   \n56311  http://www.reuters.com/article/us-eu-dataprote...  Technology News   \n...                                                  ...              ...   \n58234  http://www.nytimes.com/2016/02/06/business/lor...         business   \n58235  http://www.nytimes.com/2016/02/06/science/spac...          science   \n58238  http://www.nytimes.com/2016/02/06/sports/baske...           sports   \n58241  https://www.vice.com/en_us/article/aebdaj/how-...           Sports   \n58242  https://www.vox.com/2016/2/5/10924922/assange-...             None   \n\n              publication                                          embedding  \\\n56284            Mashable  [0.008487079, -0.030727869, 0.0062861373, -0.0...   \n56291            Mashable  [0.001972216, -0.0141342925, 0.0026705277, 0.0...   \n56294             Reuters  [-0.02990842, 0.049623482, -0.0063133654, 0.00...   \n56310             Reuters  [-0.03524109, 0.04214114, 0.004278114, 0.01927...   \n56311             Reuters  [0.007596135, 0.047344238, -0.016574496, -0.02...   \n...                   ...                                                ...   \n58234  The New York Times  [0.012283121, 0.0434221, 0.0034198314, 0.01591...   \n58235  The New York Times  [0.025910346, 0.012372937, 0.0043746694, 0.000...   \n58238  The New York Times  [-0.017951297, -0.007799456, -0.008263467, -0....   \n58241                Vice  [0.00554524, 0.022260442, -0.00047763623, -0.0...   \n58242                 Vox  [0.02622738, 0.016588533, 0.005096696, 0.00481...   \n\n                                     sentence_embeddings  cluster  \\\n56284  [0.058348633, -0.062717475, 0.019179648, 0.016...      132   \n56291  [0.03175077, 0.0061671427, 0.020649543, 0.0318...       88   \n56294  [-0.063004956, 0.06692971, 0.0083840955, -0.01...      156   \n56310  [-0.09076458, 0.099296205, 0.01780003, 0.03475...       90   \n56311  [-0.0053520403, 0.12866594, -0.031379625, -0.0...       42   \n...                                                  ...      ...   \n58234  [0.021004172, 0.06160183, 0.028830199, 0.03607...       62   \n58235  [0.09182239, 0.023748346, 0.0048715225, -0.003...      194   \n58238  [-0.06582429, -0.008099353, 0.02090188, 0.0055...      157   \n58241  [-0.021131571, 0.031856976, -0.027030421, -0.0...       28   \n58242  [0.028196717, 0.060577832, 0.006384459, 0.0307...        9   \n\n       silhouette_values  cluster_mean_silhouette  cluster_size  \n56284           0.711053                 0.712094           2.0  \n56291           0.734152                 0.749286           5.0  \n56294           0.795037                 0.787443           2.0  \n56310           0.206218                 0.210751           5.0  \n56311           0.433305                 0.495872           2.0  \n...                  ...                      ...           ...  \n58234           0.000000                 0.000000           1.0  \n58235           0.818824                 0.821897           2.0  \n58238           0.000000                 0.000000           1.0  \n58241           0.562409                 0.535483           2.0  \n58242           0.818726                 0.774755          10.0  \n\n[359 rows x 16 columns]",
      "text/html": "<div>\n<style scoped>\n    .dataframe tbody tr th:only-of-type {\n        vertical-align: middle;\n    }\n\n    .dataframe tbody tr th {\n        vertical-align: top;\n    }\n\n    .dataframe thead th {\n        text-align: right;\n    }\n</style>\n<table border=\"1\" class=\"dataframe\">\n  <thead>\n    <tr style=\"text-align: right;\">\n      <th></th>\n      <th>date</th>\n      <th>year</th>\n      <th>month</th>\n      <th>day</th>\n      <th>author</th>\n      <th>title</th>\n      <th>article</th>\n      <th>url</th>\n      <th>section</th>\n      <th>publication</th>\n      <th>embedding</th>\n      <th>sentence_embeddings</th>\n      <th>cluster</th>\n      <th>silhouette_values</th>\n      <th>cluster_mean_silhouette</th>\n      <th>cluster_size</th>\n    </tr>\n  </thead>\n  <tbody>\n    <tr>\n      <th>56284</th>\n      <td>2016-02-05</td>\n      <td>2016</td>\n      <td>2.0</td>\n      <td>5</td>\n      <td>Kelly Diamond</td>\n      <td>Ben Stiller unveils world's largest selfie sti...</td>\n      <td>The world just welcomed its newest record: The...</td>\n      <td>https://mashable.com/2016/02/05/ben-stiller-se...</td>\n      <td>None</td>\n      <td>Mashable</td>\n      <td>[0.008487079, -0.030727869, 0.0062861373, -0.0...</td>\n      <td>[0.058348633, -0.062717475, 0.019179648, 0.016...</td>\n      <td>132</td>\n      <td>0.711053</td>\n      <td>0.712094</td>\n      <td>2.0</td>\n    </tr>\n    <tr>\n      <th>56291</th>\n      <td>2016-02-05</td>\n      <td>2016</td>\n      <td>2.0</td>\n      <td>5</td>\n      <td>None</td>\n      <td>Famous Japan volcano erupts spectacularly with...</td>\n      <td>A well-known volcano erupted Friday evening i...</td>\n      <td>https://mashable.com/2016/02/05/japan-volcano-...</td>\n      <td>None</td>\n      <td>Mashable</td>\n      <td>[0.001972216, -0.0141342925, 0.0026705277, 0.0...</td>\n      <td>[0.03175077, 0.0061671427, 0.020649543, 0.0318...</td>\n      <td>88</td>\n      <td>0.734152</td>\n      <td>0.749286</td>\n      <td>5.0</td>\n    </tr>\n    <tr>\n      <th>56294</th>\n      <td>2016-02-05</td>\n      <td>2016</td>\n      <td>2.0</td>\n      <td>5</td>\n      <td>David Shepardson</td>\n      <td>U.S. traffic deaths increase sharply in 2015</td>\n      <td>WASHINGTON, Feb 5 (Reuters) - Traffic deaths i...</td>\n      <td>http://www.reuters.com/article/usa-trafficdeat...</td>\n      <td>Intel</td>\n      <td>Reuters</td>\n      <td>[-0.02990842, 0.049623482, -0.0063133654, 0.00...</td>\n      <td>[-0.063004956, 0.06692971, 0.0083840955, -0.01...</td>\n      <td>156</td>\n      <td>0.795037</td>\n      <td>0.787443</td>\n      <td>2.0</td>\n    </tr>\n    <tr>\n      <th>56310</th>\n      <td>2016-02-05</td>\n      <td>2016</td>\n      <td>2.0</td>\n      <td>5</td>\n      <td>Gina Cherelus</td>\n      <td>Huge construction crane collapses in Manhattan...</td>\n      <td>NEW YORK (Reuters) - A construction crane coll...</td>\n      <td>http://www.reuters.com/article/us-new-york-cra...</td>\n      <td>U.S.</td>\n      <td>Reuters</td>\n      <td>[-0.03524109, 0.04214114, 0.004278114, 0.01927...</td>\n      <td>[-0.09076458, 0.099296205, 0.01780003, 0.03475...</td>\n      <td>90</td>\n      <td>0.206218</td>\n      <td>0.210751</td>\n      <td>5.0</td>\n    </tr>\n    <tr>\n      <th>56311</th>\n      <td>2016-02-05</td>\n      <td>2016</td>\n      <td>2.0</td>\n      <td>5</td>\n      <td>Eric Auchard</td>\n      <td>Showdown in Europe over privacy has U.S. firms...</td>\n      <td>FRANKFURT (Reuters) - The free flow of data ac...</td>\n      <td>http://www.reuters.com/article/us-eu-dataprote...</td>\n      <td>Technology News</td>\n      <td>Reuters</td>\n      <td>[0.007596135, 0.047344238, -0.016574496, -0.02...</td>\n      <td>[-0.0053520403, 0.12866594, -0.031379625, -0.0...</td>\n      <td>42</td>\n      <td>0.433305</td>\n      <td>0.495872</td>\n      <td>2.0</td>\n    </tr>\n    <tr>\n      <th>...</th>\n      <td>...</td>\n      <td>...</td>\n      <td>...</td>\n      <td>...</td>\n      <td>...</td>\n      <td>...</td>\n      <td>...</td>\n      <td>...</td>\n      <td>...</td>\n      <td>...</td>\n      <td>...</td>\n      <td>...</td>\n      <td>...</td>\n      <td>...</td>\n      <td>...</td>\n      <td>...</td>\n    </tr>\n    <tr>\n      <th>58234</th>\n      <td>2016-02-05 22:51:38</td>\n      <td>2016</td>\n      <td>2.0</td>\n      <td>5</td>\n      <td>Margalit Fox</td>\n      <td>Lorna Jorgenson Wendt, 72, Defender of Rights ...</td>\n      <td>Lorna Jorgenson Wendt, whose high-stakes, high...</td>\n      <td>http://www.nytimes.com/2016/02/06/business/lor...</td>\n      <td>business</td>\n      <td>The New York Times</td>\n      <td>[0.012283121, 0.0434221, 0.0034198314, 0.01591...</td>\n      <td>[0.021004172, 0.06160183, 0.028830199, 0.03607...</td>\n      <td>62</td>\n      <td>0.000000</td>\n      <td>0.000000</td>\n      <td>1.0</td>\n    </tr>\n    <tr>\n      <th>58235</th>\n      <td>2016-02-05 22:52:12</td>\n      <td>2016</td>\n      <td>2.0</td>\n      <td>5</td>\n      <td>Richard Goldstein</td>\n      <td>Edgar D. Mitchell, Sixth Moonwalking Astronaut...</td>\n      <td>Edgar D. Mitchell, who became the sixth man to...</td>\n      <td>http://www.nytimes.com/2016/02/06/science/spac...</td>\n      <td>science</td>\n      <td>The New York Times</td>\n      <td>[0.025910346, 0.012372937, 0.0043746694, 0.000...</td>\n      <td>[0.09182239, 0.023748346, 0.0048715225, -0.003...</td>\n      <td>194</td>\n      <td>0.818824</td>\n      <td>0.821897</td>\n      <td>2.0</td>\n    </tr>\n    <tr>\n      <th>58238</th>\n      <td>2016-02-05 22:59:22</td>\n      <td>2016</td>\n      <td>2.0</td>\n      <td>5</td>\n      <td>Andrew Keh</td>\n      <td>Without Carmelo Anthony, Knicks Put Up a Valia...</td>\n      <td>Grizzlies 91, Knicks 85 Carmelo Anthony was hu...</td>\n      <td>http://www.nytimes.com/2016/02/06/sports/baske...</td>\n      <td>sports</td>\n      <td>The New York Times</td>\n      <td>[-0.017951297, -0.007799456, -0.008263467, -0....</td>\n      <td>[-0.06582429, -0.008099353, 0.02090188, 0.0055...</td>\n      <td>157</td>\n      <td>0.000000</td>\n      <td>0.000000</td>\n      <td>1.0</td>\n    </tr>\n    <tr>\n      <th>58241</th>\n      <td>2016-02-05 23:10:00</td>\n      <td>2016</td>\n      <td>2.0</td>\n      <td>5</td>\n      <td>Mike Piellucci</td>\n      <td>How Troy University Became An Unlikely Breedin...</td>\n      <td>This feature is part of Super Bowl Week at VIC...</td>\n      <td>https://www.vice.com/en_us/article/aebdaj/how-...</td>\n      <td>Sports</td>\n      <td>Vice</td>\n      <td>[0.00554524, 0.022260442, -0.00047763623, -0.0...</td>\n      <td>[-0.021131571, 0.031856976, -0.027030421, -0.0...</td>\n      <td>28</td>\n      <td>0.562409</td>\n      <td>0.535483</td>\n      <td>2.0</td>\n    </tr>\n    <tr>\n      <th>58242</th>\n      <td>2016-02-05 23:10:02</td>\n      <td>2016</td>\n      <td>2.0</td>\n      <td>5</td>\n      <td>Jennifer Williams</td>\n      <td>Why the UN ruled Julian Assange is being “arbi...</td>\n      <td>WikiLeaks founder Julian Assange might live in...</td>\n      <td>https://www.vox.com/2016/2/5/10924922/assange-...</td>\n      <td>None</td>\n      <td>Vox</td>\n      <td>[0.02622738, 0.016588533, 0.005096696, 0.00481...</td>\n      <td>[0.028196717, 0.060577832, 0.006384459, 0.0307...</td>\n      <td>9</td>\n      <td>0.818726</td>\n      <td>0.774755</td>\n      <td>10.0</td>\n    </tr>\n  </tbody>\n</table>\n<p>359 rows × 16 columns</p>\n</div>"
     },
     "execution_count": 29,
     "metadata": {},
     "output_type": "execute_result"
    }
   ],
   "source": [
    "# Iteruj po unikalnych etykietach klastrów\n",
    "for cluster_id in filtered_df[\"cluster\"].unique():\n",
    "    # Utwórz kopię ramki danych dla danego klastra\n",
    "    cluster_subset = filtered_df[filtered_df[\"cluster\"] == cluster_id].copy()\n",
    "\n",
    "    num_elements = cluster_subset.shape[0]\n",
    "\n",
    "    # Oblicz średnią wartość silhouette dla danego klastra\n",
    "    cluster_mean_silhouette = cluster_subset[\"silhouette_values\"].mean()\n",
    "\n",
    "    # Dodaj średnią wartość silhouette dla danego klastra do wszystkich wierszy tego klastra\n",
    "    filtered_df.loc[filtered_df[\"cluster\"] == cluster_id, \"cluster_mean_silhouette\"] = cluster_mean_silhouette\n",
    "    filtered_df.loc[filtered_df[\"cluster\"] == cluster_id, \"cluster_size\"] = num_elements\n",
    "filtered_df"
   ]
  },
  {
   "cell_type": "code",
   "execution_count": 30,
   "id": "8753fe3a",
   "metadata": {
    "collapsed": false,
    "jupyter": {
     "outputs_hidden": false
    }
   },
   "outputs": [
    {
     "data": {
      "text/plain": "                      date  year  month  day  \\\n56338           2016-02-05  2016    2.0    5   \n57842  2016-02-05 12:59:00  2016    2.0    5   \n57601  2016-02-05 00:00:00  2016    2.0    5   \n57378  2016-02-05 00:00:00  2016    2.0    5   \n57166  2016-02-05 00:00:00  2016    2.0    5   \n...                    ...   ...    ...  ...   \n56443           2016-02-05  2016    2.0    5   \n56820           2016-02-05  2016    2.0    5   \n58210  2016-02-05 21:41:05  2016    2.0    5   \n56936           2016-02-05  2016    2.0    5   \n57005           2016-02-05  2016    2.0    5   \n\n                                             author  \\\n56338                              Elizabeth Pineau   \n57842                              Elizabeth Pineau   \n57601                              Nicholas Bakalar   \n57378              By Carina Storrs, Special to CNN   \n57166                                   Loren Grush   \n...                                             ...   \n56443                            Christopher Miller   \n56820                                     Jeet Heer   \n58210                          Elizabeth Williamson   \n56936          Cristina Marcos and Alexander Bolton   \n57005  Gabriel Debenedetti,Eliza Collins,Hadas Gold   \n\n                                                   title  \\\n56338  French PM defends emergency rule, says terror ...   \n57842  Manuel Valls warns terrorist threat is here to...   \n57601  Whooping Cough Booster Shot May Offer Only Sho...   \n57378  Whooping cough protection fades fast after Tda...   \n57166  Morocco turns on what will become the world’s ...   \n...                                                  ...   \n56443  Tens of thousands of Syrians flee Aleppo as go...   \n56820  Bill Clinton’s Legacy Haunts the Democratic De...   \n58210           Opinion | The Sincerest Form of Flattery   \n56936  Democratic establishment starts to gang up on ...   \n57005  Bernie Sanders rallies take anti-Clinton, dark...   \n\n                                                 article  \\\n56338  PARIS (Reuters) - Thousands of house searches ...   \n57842  By Elizabeth Pineau PARIS (Reuters) - Thousand...   \n57601  The rapidly fading effectiveness of the pertus...   \n57378   (CNN)A booster vaccine for whooping cough, wh...   \n57166  Morocco has turned on its massive solar power ...   \n...                                                  ...   \n56443  Backed by hundreds of Russian airstrikes, the ...   \n56820  Early in Thursday night’s Democratic debate in...   \n58210  Editorial Observer “Immature poets imitate; ma...   \n56936  Democratic lawmakers on both sides of the Capi...   \n57005  DURHAM, N.H. — The boos are getting louder. Th...   \n\n                                                     url  \\\n56338  http://www.reuters.com/article/us-france-shoot...   \n57842  https://www.businessinsider.com/r-french-pm-de...   \n57601  http://well.blogs.nytimes.com/2016/02/05/whoop...   \n57378  https://www.cnn.com/2016/02/05/health/tdap-who...   \n57166  https://www.theverge.com/2016/2/5/10923000/mor...   \n...                                                  ...   \n56443  https://mashable.com/2016/02/05/syrians-flee-a...   \n56820  https://newrepublic.com/article/129261/bill-cl...   \n58210  http://www.nytimes.com/2016/02/06/opinion/the-...   \n56936  https://thehill.com/homenews/campaign/268325-d...   \n57005  https://www.politico.com/story/2016/02/bernie-...   \n\n                                   section         publication  \\\n56338                           World News             Reuters   \n57842                                 None    Business Insider   \n57601  whooping-cough-booster-shot-vaccine  The New York Times   \n57378                               health                 CNN   \n57166                              Science           The Verge   \n...                                    ...                 ...   \n56443                                 None            Mashable   \n56820                                 None        New Republic   \n58210                              opinion  The New York Times   \n56936                                 None            The Hill   \n57005                                 None            Politico   \n\n                                               embedding  \\\n56338  [-0.0010319168, 0.01811194, 0.0034520088, 0.00...   \n57842  [-0.006441375, 0.021218868, 0.0023993433, 0.01...   \n57601  [0.022979714, 0.030509854, -0.00025710632, -0....   \n57378  [0.00059322466, 0.019088697, -0.0008608521, -0...   \n57166  [0.0037360634, -0.012095271, -0.014106788, 0.0...   \n...                                                  ...   \n56443  [-0.0010621028, -0.011652682, 9.805585e-07, 0....   \n56820  [-0.026649028, 0.061981715, 0.0025293906, 0.02...   \n58210  [-0.02283644, 0.07578412, 0.0036969106, 0.0350...   \n56936  [-0.013681835, 0.07243984, 0.009432732, 0.0087...   \n57005  [-0.005826569, 0.060295902, -0.0031415154, 0.0...   \n\n                                     sentence_embeddings  cluster  \\\n56338  [-0.039418265, 0.040478386, -0.020535825, 0.00...      697   \n57842  [-0.036571607, 0.042007014, -0.0184135, 0.0045...      697   \n57601  [-0.002007108, 0.04872948, 0.00539755, -0.0385...      119   \n57378  [0.026391841, 0.08937711, 0.02486107, 0.012044...      119   \n57166  [0.02697129, -0.08763455, 0.000941774, -0.0067...      131   \n...                                                  ...      ...   \n56443  [-0.022732034, -0.008685973, 0.016100349, -0.0...       50   \n56820  [-0.05687423, 0.061007593, -0.0036071476, 0.02...       12   \n58210  [0.05221253, 0.057892874, -0.006727831, 0.0416...       12   \n56936  [-0.0463246, 0.05994051, 0.017483376, 0.005357...       12   \n57005  [-0.02568134, 0.023520146, 0.02137318, -0.0052...       12   \n\n       silhouette_values  cluster_mean_silhouette  cluster_size  \n56338           0.972149                 0.972148           2.0  \n57842           0.972148                 0.972148           2.0  \n57601           0.861531                 0.859937           2.0  \n57378           0.858342                 0.859937           2.0  \n57166           0.856667                 0.845097           2.0  \n...                  ...                      ...           ...  \n56443          -0.042490                 0.133833           6.0  \n56820          -0.078933                 0.075714          20.0  \n58210          -0.112205                 0.075714          20.0  \n56936          -0.134094                 0.075714          20.0  \n57005          -0.278331                 0.075714          20.0  \n\n[359 rows x 16 columns]",
      "text/html": "<div>\n<style scoped>\n    .dataframe tbody tr th:only-of-type {\n        vertical-align: middle;\n    }\n\n    .dataframe tbody tr th {\n        vertical-align: top;\n    }\n\n    .dataframe thead th {\n        text-align: right;\n    }\n</style>\n<table border=\"1\" class=\"dataframe\">\n  <thead>\n    <tr style=\"text-align: right;\">\n      <th></th>\n      <th>date</th>\n      <th>year</th>\n      <th>month</th>\n      <th>day</th>\n      <th>author</th>\n      <th>title</th>\n      <th>article</th>\n      <th>url</th>\n      <th>section</th>\n      <th>publication</th>\n      <th>embedding</th>\n      <th>sentence_embeddings</th>\n      <th>cluster</th>\n      <th>silhouette_values</th>\n      <th>cluster_mean_silhouette</th>\n      <th>cluster_size</th>\n    </tr>\n  </thead>\n  <tbody>\n    <tr>\n      <th>56338</th>\n      <td>2016-02-05</td>\n      <td>2016</td>\n      <td>2.0</td>\n      <td>5</td>\n      <td>Elizabeth Pineau</td>\n      <td>French PM defends emergency rule, says terror ...</td>\n      <td>PARIS (Reuters) - Thousands of house searches ...</td>\n      <td>http://www.reuters.com/article/us-france-shoot...</td>\n      <td>World News</td>\n      <td>Reuters</td>\n      <td>[-0.0010319168, 0.01811194, 0.0034520088, 0.00...</td>\n      <td>[-0.039418265, 0.040478386, -0.020535825, 0.00...</td>\n      <td>697</td>\n      <td>0.972149</td>\n      <td>0.972148</td>\n      <td>2.0</td>\n    </tr>\n    <tr>\n      <th>57842</th>\n      <td>2016-02-05 12:59:00</td>\n      <td>2016</td>\n      <td>2.0</td>\n      <td>5</td>\n      <td>Elizabeth Pineau</td>\n      <td>Manuel Valls warns terrorist threat is here to...</td>\n      <td>By Elizabeth Pineau PARIS (Reuters) - Thousand...</td>\n      <td>https://www.businessinsider.com/r-french-pm-de...</td>\n      <td>None</td>\n      <td>Business Insider</td>\n      <td>[-0.006441375, 0.021218868, 0.0023993433, 0.01...</td>\n      <td>[-0.036571607, 0.042007014, -0.0184135, 0.0045...</td>\n      <td>697</td>\n      <td>0.972148</td>\n      <td>0.972148</td>\n      <td>2.0</td>\n    </tr>\n    <tr>\n      <th>57601</th>\n      <td>2016-02-05 00:00:00</td>\n      <td>2016</td>\n      <td>2.0</td>\n      <td>5</td>\n      <td>Nicholas Bakalar</td>\n      <td>Whooping Cough Booster Shot May Offer Only Sho...</td>\n      <td>The rapidly fading effectiveness of the pertus...</td>\n      <td>http://well.blogs.nytimes.com/2016/02/05/whoop...</td>\n      <td>whooping-cough-booster-shot-vaccine</td>\n      <td>The New York Times</td>\n      <td>[0.022979714, 0.030509854, -0.00025710632, -0....</td>\n      <td>[-0.002007108, 0.04872948, 0.00539755, -0.0385...</td>\n      <td>119</td>\n      <td>0.861531</td>\n      <td>0.859937</td>\n      <td>2.0</td>\n    </tr>\n    <tr>\n      <th>57378</th>\n      <td>2016-02-05 00:00:00</td>\n      <td>2016</td>\n      <td>2.0</td>\n      <td>5</td>\n      <td>By Carina Storrs, Special to CNN</td>\n      <td>Whooping cough protection fades fast after Tda...</td>\n      <td>(CNN)A booster vaccine for whooping cough, wh...</td>\n      <td>https://www.cnn.com/2016/02/05/health/tdap-who...</td>\n      <td>health</td>\n      <td>CNN</td>\n      <td>[0.00059322466, 0.019088697, -0.0008608521, -0...</td>\n      <td>[0.026391841, 0.08937711, 0.02486107, 0.012044...</td>\n      <td>119</td>\n      <td>0.858342</td>\n      <td>0.859937</td>\n      <td>2.0</td>\n    </tr>\n    <tr>\n      <th>57166</th>\n      <td>2016-02-05 00:00:00</td>\n      <td>2016</td>\n      <td>2.0</td>\n      <td>5</td>\n      <td>Loren Grush</td>\n      <td>Morocco turns on what will become the world’s ...</td>\n      <td>Morocco has turned on its massive solar power ...</td>\n      <td>https://www.theverge.com/2016/2/5/10923000/mor...</td>\n      <td>Science</td>\n      <td>The Verge</td>\n      <td>[0.0037360634, -0.012095271, -0.014106788, 0.0...</td>\n      <td>[0.02697129, -0.08763455, 0.000941774, -0.0067...</td>\n      <td>131</td>\n      <td>0.856667</td>\n      <td>0.845097</td>\n      <td>2.0</td>\n    </tr>\n    <tr>\n      <th>...</th>\n      <td>...</td>\n      <td>...</td>\n      <td>...</td>\n      <td>...</td>\n      <td>...</td>\n      <td>...</td>\n      <td>...</td>\n      <td>...</td>\n      <td>...</td>\n      <td>...</td>\n      <td>...</td>\n      <td>...</td>\n      <td>...</td>\n      <td>...</td>\n      <td>...</td>\n      <td>...</td>\n    </tr>\n    <tr>\n      <th>56443</th>\n      <td>2016-02-05</td>\n      <td>2016</td>\n      <td>2.0</td>\n      <td>5</td>\n      <td>Christopher Miller</td>\n      <td>Tens of thousands of Syrians flee Aleppo as go...</td>\n      <td>Backed by hundreds of Russian airstrikes, the ...</td>\n      <td>https://mashable.com/2016/02/05/syrians-flee-a...</td>\n      <td>None</td>\n      <td>Mashable</td>\n      <td>[-0.0010621028, -0.011652682, 9.805585e-07, 0....</td>\n      <td>[-0.022732034, -0.008685973, 0.016100349, -0.0...</td>\n      <td>50</td>\n      <td>-0.042490</td>\n      <td>0.133833</td>\n      <td>6.0</td>\n    </tr>\n    <tr>\n      <th>56820</th>\n      <td>2016-02-05</td>\n      <td>2016</td>\n      <td>2.0</td>\n      <td>5</td>\n      <td>Jeet Heer</td>\n      <td>Bill Clinton’s Legacy Haunts the Democratic De...</td>\n      <td>Early in Thursday night’s Democratic debate in...</td>\n      <td>https://newrepublic.com/article/129261/bill-cl...</td>\n      <td>None</td>\n      <td>New Republic</td>\n      <td>[-0.026649028, 0.061981715, 0.0025293906, 0.02...</td>\n      <td>[-0.05687423, 0.061007593, -0.0036071476, 0.02...</td>\n      <td>12</td>\n      <td>-0.078933</td>\n      <td>0.075714</td>\n      <td>20.0</td>\n    </tr>\n    <tr>\n      <th>58210</th>\n      <td>2016-02-05 21:41:05</td>\n      <td>2016</td>\n      <td>2.0</td>\n      <td>5</td>\n      <td>Elizabeth Williamson</td>\n      <td>Opinion | The Sincerest Form of Flattery</td>\n      <td>Editorial Observer “Immature poets imitate; ma...</td>\n      <td>http://www.nytimes.com/2016/02/06/opinion/the-...</td>\n      <td>opinion</td>\n      <td>The New York Times</td>\n      <td>[-0.02283644, 0.07578412, 0.0036969106, 0.0350...</td>\n      <td>[0.05221253, 0.057892874, -0.006727831, 0.0416...</td>\n      <td>12</td>\n      <td>-0.112205</td>\n      <td>0.075714</td>\n      <td>20.0</td>\n    </tr>\n    <tr>\n      <th>56936</th>\n      <td>2016-02-05</td>\n      <td>2016</td>\n      <td>2.0</td>\n      <td>5</td>\n      <td>Cristina Marcos and Alexander Bolton</td>\n      <td>Democratic establishment starts to gang up on ...</td>\n      <td>Democratic lawmakers on both sides of the Capi...</td>\n      <td>https://thehill.com/homenews/campaign/268325-d...</td>\n      <td>None</td>\n      <td>The Hill</td>\n      <td>[-0.013681835, 0.07243984, 0.009432732, 0.0087...</td>\n      <td>[-0.0463246, 0.05994051, 0.017483376, 0.005357...</td>\n      <td>12</td>\n      <td>-0.134094</td>\n      <td>0.075714</td>\n      <td>20.0</td>\n    </tr>\n    <tr>\n      <th>57005</th>\n      <td>2016-02-05</td>\n      <td>2016</td>\n      <td>2.0</td>\n      <td>5</td>\n      <td>Gabriel Debenedetti,Eliza Collins,Hadas Gold</td>\n      <td>Bernie Sanders rallies take anti-Clinton, dark...</td>\n      <td>DURHAM, N.H. — The boos are getting louder. Th...</td>\n      <td>https://www.politico.com/story/2016/02/bernie-...</td>\n      <td>None</td>\n      <td>Politico</td>\n      <td>[-0.005826569, 0.060295902, -0.0031415154, 0.0...</td>\n      <td>[-0.02568134, 0.023520146, 0.02137318, -0.0052...</td>\n      <td>12</td>\n      <td>-0.278331</td>\n      <td>0.075714</td>\n      <td>20.0</td>\n    </tr>\n  </tbody>\n</table>\n<p>359 rows × 16 columns</p>\n</div>"
     },
     "execution_count": 30,
     "metadata": {},
     "output_type": "execute_result"
    }
   ],
   "source": [
    "u_clusters_df= filtered_df.sort_values(by=[\"silhouette_values\"], ascending=False)\n",
    "u_clusters_df"
   ]
  },
  {
   "cell_type": "markdown",
   "id": "f709746b4e75a2ae",
   "metadata": {
    "collapsed": false,
    "jupyter": {
     "outputs_hidden": false
    }
   },
   "source": [
    "# Sumaryzacja\n",
    "\n",
    "Proces ten obejmuje:\n",
    "1. Utworzenie funkcji `compute_summary`, która na podstawie artykułu wylicza jego podsumowanie. Źródło: (https://github.com/UKPLab/sentence-transformers/blob/master/examples/applications/text-summarization/README.md)\n",
    "2. Utworzenie funkcji `get_closest_to_center_title`, która na podstawie klastra wybiera artykuł, który jest najbliżej środka klastra\n",
    "3. Utworzenie funkcji `filter_cluster`, która na podstawie klastra wybiera artykuł, który jest najbliżej środka klastra oraz usuwa artykuły, które są z tego samego źródła\n",
    "3. Utworzenie listy tematów, która zawiera tytuł klastra oraz listę artykułów w tym klastrze wraz z ich podsumowaniami\n",
    "4. Utworzenie raportu w formacie markdown"
   ]
  },
  {
   "cell_type": "code",
   "execution_count": 31,
   "id": "15fc071b37935452",
   "metadata": {
    "ExecuteTime": {
     "end_time": "2024-01-09T18:47:30.141518100Z",
     "start_time": "2024-01-09T18:47:30.131010300Z"
    },
    "collapsed": false,
    "jupyter": {
     "outputs_hidden": false
    }
   },
   "outputs": [],
   "source": [
    "TOPICS_TO_SHOW = 10"
   ]
  },
  {
   "cell_type": "code",
   "execution_count": 32,
   "id": "6e4b191b39287880",
   "metadata": {
    "ExecuteTime": {
     "end_time": "2024-01-09T18:47:32.727920900Z",
     "start_time": "2024-01-09T18:47:32.721928500Z"
    },
    "collapsed": false,
    "jupyter": {
     "outputs_hidden": false
    }
   },
   "outputs": [],
   "source": [
    "\"\"\"\n",
    "LexRank implementation\n",
    "Source: https://github.com/crabcamp/lexrank/tree/dev\n",
    "\"\"\"\n",
    "\n",
    "import numpy as np\n",
    "from scipy.sparse.csgraph import connected_components\n",
    "from scipy.special import softmax\n",
    "import logging\n",
    "\n",
    "logger = logging.getLogger(__name__)\n",
    "\n",
    "\n",
    "def degree_centrality_scores(\n",
    "    similarity_matrix,\n",
    "    threshold=None,\n",
    "    increase_power=True,\n",
    "):\n",
    "    if not (threshold is None or isinstance(threshold, float) and 0 <= threshold < 1):\n",
    "        raise ValueError(\n",
    "            \"'threshold' should be a floating-point number \" \"from the interval [0, 1) or None\",\n",
    "        )\n",
    "\n",
    "    if threshold is None:\n",
    "        markov_matrix = create_markov_matrix(similarity_matrix)\n",
    "\n",
    "    else:\n",
    "        markov_matrix = create_markov_matrix_discrete(\n",
    "            similarity_matrix,\n",
    "            threshold,\n",
    "        )\n",
    "\n",
    "    scores = stationary_distribution(\n",
    "        markov_matrix,\n",
    "        increase_power=increase_power,\n",
    "        normalized=False,\n",
    "    )\n",
    "\n",
    "    return scores\n",
    "\n",
    "\n",
    "def _power_method(transition_matrix, increase_power=True, max_iter=10000):\n",
    "    eigenvector = np.ones(len(transition_matrix))\n",
    "\n",
    "    if len(eigenvector) == 1:\n",
    "        return eigenvector\n",
    "\n",
    "    transition = transition_matrix.transpose()\n",
    "\n",
    "    for _ in range(max_iter):\n",
    "        eigenvector_next = np.dot(transition, eigenvector)\n",
    "\n",
    "        if np.allclose(eigenvector_next, eigenvector):\n",
    "            return eigenvector_next\n",
    "\n",
    "        eigenvector = eigenvector_next\n",
    "\n",
    "        if increase_power:\n",
    "            transition = np.dot(transition, transition)\n",
    "\n",
    "    logger.warning(\"Maximum number of iterations for power method exceeded without convergence!\")\n",
    "    return eigenvector_next\n",
    "\n",
    "\n",
    "def connected_nodes(matrix):\n",
    "    _, labels = connected_components(matrix)\n",
    "\n",
    "    groups = []\n",
    "\n",
    "    for tag in np.unique(labels):\n",
    "        group = np.where(labels == tag)[0]\n",
    "        groups.append(group)\n",
    "\n",
    "    return groups\n",
    "\n",
    "\n",
    "def create_markov_matrix(weights_matrix):\n",
    "    n_1, n_2 = weights_matrix.shape\n",
    "    if n_1 != n_2:\n",
    "        raise ValueError(\"'weights_matrix' should be square\")\n",
    "\n",
    "    row_sum = weights_matrix.sum(axis=1, keepdims=True)\n",
    "\n",
    "    if np.min(weights_matrix) <= 0:\n",
    "        return softmax(weights_matrix, axis=1)\n",
    "\n",
    "    return weights_matrix / row_sum\n",
    "\n",
    "\n",
    "def create_markov_matrix_discrete(weights_matrix, threshold):\n",
    "    discrete_weights_matrix = np.zeros(weights_matrix.shape)\n",
    "    ixs = np.where(weights_matrix >= threshold)\n",
    "    discrete_weights_matrix[ixs] = 1\n",
    "\n",
    "    return create_markov_matrix(discrete_weights_matrix)\n",
    "\n",
    "\n",
    "def stationary_distribution(\n",
    "    transition_matrix,\n",
    "    increase_power=True,\n",
    "    normalized=True,\n",
    "):\n",
    "    n_1, n_2 = transition_matrix.shape\n",
    "    if n_1 != n_2:\n",
    "        raise ValueError(\"'transition_matrix' should be square\")\n",
    "\n",
    "    distribution = np.zeros(n_1)\n",
    "\n",
    "    grouped_indices = connected_nodes(transition_matrix)\n",
    "\n",
    "    for group in grouped_indices:\n",
    "        t_matrix = transition_matrix[np.ix_(group, group)]\n",
    "        eigenvector = _power_method(t_matrix, increase_power=increase_power)\n",
    "        distribution[group] = eigenvector\n",
    "\n",
    "    if normalized:\n",
    "        distribution /= n_1\n",
    "\n",
    "    return distribution"
   ]
  },
  {
   "cell_type": "code",
   "execution_count": 33,
   "id": "e671453ce199db2e",
   "metadata": {
    "ExecuteTime": {
     "end_time": "2024-01-09T19:03:47.515612400Z",
     "start_time": "2024-01-09T19:03:47.510105Z"
    },
    "collapsed": false,
    "jupyter": {
     "outputs_hidden": false
    }
   },
   "outputs": [],
   "source": [
    "def compute_summary(document, num_sentences=5):\n",
    "    sentences = nltk.sent_tokenize(document)\n",
    "    sentences = [s[1:] if s.startswith('>') else s for s in sentences]\n",
    "    # drop sentences that are duplicates\n",
    "    sentences = list(dict.fromkeys(sentences))\n",
    "    embeddings = model.encode(sentences, convert_to_tensor=True)\n",
    "    cos_scores = util.cos_sim(embeddings, embeddings).cpu().numpy()\n",
    "    centrality_scores = degree_centrality_scores(cos_scores, threshold=None)\n",
    "    most_central_sentence_indices = np.argsort(-centrality_scores)\n",
    "    return \"\\n\".join(np.array(sentences)[most_central_sentence_indices[:num_sentences]])"
   ]
  },
  {
   "cell_type": "code",
   "execution_count": 34,
   "id": "648e018eee335aed",
   "metadata": {
    "ExecuteTime": {
     "end_time": "2024-01-09T18:53:53.439960700Z",
     "start_time": "2024-01-09T18:53:53.435688300Z"
    },
    "collapsed": false,
    "jupyter": {
     "outputs_hidden": false
    }
   },
   "outputs": [],
   "source": [
    "def get_closest_to_center_title(df, cluster_id):\n",
    "    cluster_df = df[df[\"cluster\"] == cluster_id]\n",
    "    cluster_center = np.mean(np.vstack(cluster_df[\"embedding\"].values), axis=0)\n",
    "    distanceT = cluster_df.apply(lambda row: distance.cosine(row[\"embedding\"], cluster_center), axis=1)\n",
    "    closest_record = cluster_df.loc[distanceT.idxmin()]\n",
    "    return closest_record[\"title\"]"
   ]
  },
  {
   "cell_type": "code",
   "execution_count": 35,
   "id": "a78a0cf3",
   "metadata": {
    "collapsed": false,
    "jupyter": {
     "outputs_hidden": false
    }
   },
   "outputs": [],
   "source": [
    "def get_closest_to_center_title_by_s(df, cluster_id):\n",
    "    cluster_df = df[df[\"cluster_mean_silhouette\"] == cluster_id]\n",
    "    cluster_center = np.mean(np.vstack(cluster_df[\"embedding\"].values), axis=0)\n",
    "    distanceT = cluster_df.apply(lambda row: distance.cosine(row[\"embedding\"], cluster_center), axis=1)\n",
    "    closest_record = cluster_df.loc[distanceT.idxmin()]\n",
    "    return closest_record[\"title\"]"
   ]
  },
  {
   "cell_type": "code",
   "execution_count": 36,
   "id": "63a948e16e0c4989",
   "metadata": {
    "ExecuteTime": {
     "end_time": "2024-01-09T18:47:38.026486500Z",
     "start_time": "2024-01-09T18:47:38.020979600Z"
    },
    "collapsed": false,
    "jupyter": {
     "outputs_hidden": false
    }
   },
   "outputs": [],
   "source": [
    "def filter_cluster(df, cluster_id):\n",
    "    cluster_df = df[df[\"cluster\"] == cluster_id]\n",
    "    cluster_center = np.mean(np.vstack(cluster_df[\"embedding\"].values), axis=0)\n",
    "    cluster_df['distance_to_center'] = cluster_df.apply(lambda row: distance.cosine(row[\"embedding\"], cluster_center), axis=1)\n",
    "    filtered_cluster_df = cluster_df.loc[cluster_df.groupby(\"publication\")[\"distance_to_center\"].idxmin()]\n",
    "\n",
    "    return filtered_cluster_df"
   ]
  },
  {
   "cell_type": "code",
   "execution_count": 37,
   "id": "cedc6c94",
   "metadata": {
    "collapsed": false,
    "jupyter": {
     "outputs_hidden": false
    }
   },
   "outputs": [],
   "source": [
    "def filter_cluster_by_s(df, cluster_id):\n",
    "    cluster_df = df[df[\"cluster_mean_silhouette\"] == cluster_id]\n",
    "    cluster_center = np.mean(np.vstack(cluster_df[\"embedding\"].values), axis=0)\n",
    "    cluster_df['distance_to_center'] = cluster_df.apply(lambda row: distance.cosine(row[\"embedding\"], cluster_center), axis=1)\n",
    "    filtered_cluster_df = cluster_df.loc[cluster_df.groupby(\"publication\")[\"distance_to_center\"].idxmin()]\n",
    "\n",
    "    return filtered_cluster_df"
   ]
  },
  {
   "cell_type": "code",
   "execution_count": 38,
   "id": "68f2de71cd27d304",
   "metadata": {
    "ExecuteTime": {
     "end_time": "2024-01-09T18:47:39.467538800Z",
     "start_time": "2024-01-09T18:47:39.463032400Z"
    },
    "collapsed": false,
    "jupyter": {
     "outputs_hidden": false
    }
   },
   "outputs": [],
   "source": [
    "def process_title(title):\n",
    "    stripped = title.strip()\n",
    "    \n",
    "    hill_ending = \"| TheHill\"\n",
    "    if stripped.endswith(hill_ending):\n",
    "        return stripped[:-len(hill_ending)]\n",
    "    \n",
    "    return stripped"
   ]
  },
  {
   "cell_type": "code",
   "execution_count": null,
   "id": "797db872c80bb81c",
   "metadata": {
    "ExecuteTime": {
     "end_time": "2024-01-09T19:03:53.457297700Z",
     "start_time": "2024-01-09T19:03:49.854034400Z"
    },
    "collapsed": false,
    "jupyter": {
     "outputs_hidden": false
    },
    "pycharm": {
     "is_executing": true
    }
   },
   "outputs": [],
   "source": [
    "#wyswietlanie wg kolejnosci najwiekszych klastrow\n",
    "\n",
    "# make this topics array for top 10 clusters\n",
    "topics1 = []\n",
    "# order clusters by number of articles\n",
    "unique_clusters = filtered_df[\"cluster\"].value_counts().index\n",
    "\n",
    "# order clusters by silhouette score\n",
    "# #unique_clusters = filtered_df[\"cluster_mean_silhouette\"].value_counts().index\n",
    "\n",
    "for cluster_id in unique_clusters[:TOPICS_TO_SHOW]:\n",
    "    example_cluster = filter_cluster(filtered_df, cluster_id)\n",
    "    cluster_title = get_closest_to_center_title(filtered_df, cluster_id)\n",
    "    example_cluster[\"title\"] = example_cluster[\"title\"].apply(process_title)\n",
    "    example_cluster[\"summary\"] = example_cluster[\"article\"].apply(compute_summary)\n",
    "    topics1.append(\n",
    "        {\n",
    "            \"title\": cluster_title,\n",
    "            \"articles\": example_cluster[[\"title\", \"summary\", \"cluster\", \"publication\",\"silhouette_values\"]].to_dict(\n",
    "                orient=\"records\"\n",
    "            ),\n",
    "        }\n",
    "    )"
   ]
  },
  {
   "cell_type": "code",
   "execution_count": null,
   "id": "d08c0a46",
   "metadata": {
    "collapsed": false,
    "jupyter": {
     "outputs_hidden": false
    },
    "pycharm": {
     "is_executing": true
    }
   },
   "outputs": [],
   "source": [
    "#wyswietlanie wg kolejnosci najlepszych klastrow\n",
    "\n",
    "# make this topics array for top 10 clusters\n",
    "topics2 = []\n",
    "# order clusters by silhouette score\n",
    "unique_clusters = filtered_df[\"cluster_mean_silhouette\"].value_counts().sort_index(ascending=False).index\n",
    "\n",
    "for cluster_id in unique_clusters[:TOPICS_TO_SHOW]:\n",
    "    example_cluster = filter_cluster_by_s(filtered_df, cluster_id)\n",
    "    cluster_title = get_closest_to_center_title_by_s(filtered_df, cluster_id)\n",
    "    example_cluster[\"title\"] = example_cluster[\"title\"].apply(process_title)\n",
    "    example_cluster[\"summary\"] = example_cluster[\"article\"].apply(compute_summary)\n",
    "    topics2.append(\n",
    "        {\n",
    "            \"title\": cluster_title,\n",
    "            \"articles\": example_cluster[[\"title\", \"summary\", \"cluster\", \"publication\",\"silhouette_values\"]].to_dict(\n",
    "                orient=\"records\"\n",
    "            ),\n",
    "        }\n",
    "    )"
   ]
  },
  {
   "cell_type": "code",
   "execution_count": 41,
   "id": "e07218300f2d0ef5",
   "metadata": {
    "ExecuteTime": {
     "end_time": "2024-01-09T18:47:44.694774100Z",
     "start_time": "2024-01-09T18:47:44.688203800Z"
    },
    "collapsed": false,
    "jupyter": {
     "outputs_hidden": false
    }
   },
   "outputs": [],
   "source": [
    "min_date = pd.to_datetime(filtered_df[\"date\"], format=\"mixed\").min()\n",
    "max_date = pd.to_datetime(filtered_df[\"date\"], format=\"mixed\").max()"
   ]
  },
  {
   "cell_type": "code",
   "execution_count": 42,
   "id": "528d9f0ea867c08b",
   "metadata": {
    "ExecuteTime": {
     "end_time": "2024-01-09T18:47:46.809423800Z",
     "start_time": "2024-01-09T18:47:46.603502700Z"
    },
    "collapsed": false,
    "jupyter": {
     "outputs_hidden": false
    }
   },
   "outputs": [],
   "source": [
    "%load_ext pretty_jupyter"
   ]
  },
  {
   "cell_type": "code",
   "execution_count": 43,
   "id": "c9cc37c8e7e749cf",
   "metadata": {
    "ExecuteTime": {
     "end_time": "2024-01-09T19:04:05.214224Z",
     "start_time": "2024-01-09T19:04:05.209954500Z"
    },
    "collapsed": false,
    "jupyter": {
     "outputs_hidden": false
    }
   },
   "outputs": [
    {
     "data": {
      "text/plain": "<IPython.core.display.Markdown object>",
      "text/markdown": "# News summarization\n\n### Dates covered: 2016-02-05 - 2016-02-05 \n\n### Number of topics: 109\n\n### Total Number of articles: 359\n\n## Summaries (by the biggest clusters):\n\n----\n### 1. Democratic debate: 6 takeaways (10 articles)\n\n#### CNN: Democratic debate: 6 takeaways \nHere are the takeaways from the intense MSNBC Democratic debate: Clinton goes after Sanders for his 'artful smear' campaign In her second presidential campaign, Clinton clearly doesn't want to win through a war of attrition.\nThere's a reason Clinton's campaign decided to embrace four more Democratic debates: She's a bare-knuckle brawler, and she's not going to lose the nomination because she wasn't willing to hit Sanders hard enough.\nShe finally found an answer to Sanders' criticism: \"A vote in 2002 is not a plan to defeat ISIS.\"\nAnd she follows with the definition of 'progressive' It's been a struggle for months for Clinton to find a way to tell Sanders' supporters that she's on the same page with them policy-wise -- it's just that their big ideas could never, ever make it through Congress.\nClinton to Sanders: 'If you have something to say, say it' \"Time and time again, by innuendo, by insinuation, there is this attack that he is putting forth which really comes down to, you know, anybody who ever took donations or speaking fees from any interest group has to be bought.\n\n\n**Silhouette Value:** 0.2210465967655182\n\n#### Mashable: Hillary Clinton accuses Bernie Sanders of 'very artful smear' \nClinton confronted Sanders, saying \"time and time again, by innuendo, by insinuation\" he attacks any candidate that has ever taken money from an interest group.\n:fire::fire::fire: #DemDebate pic.twitter.com/Dns20rfXBW — Mashable News (@MashableNews) February 5, 2016 Sanders started a feud this week when he questioned Clinton's progressive credentials.\nWASHINGTON — Hillary Clinton and Bernie Sanders took direct shots at each other in a one-on-one matchup for the first time in a debate on Thursday, and Wall Street continued to be their biggest source of friction.\nAnd said called Clinton's strong support from a long list of Democratic elected officials made her part of the \"establishment\" he seeks to fight against.\nWay to make it awkward, @chucktodd #DemDebate pic.twitter.com/DAeSeXnuVb — Mashable News (@MashableNews) February 5, 2016 Still, despite the heated moments, the debate ended on a more friendly note, when both Clinton and Sanders expressed respect for one another.\n\n\n**Silhouette Value:** 0.20372642576694489\n\n#### New Republic: That’s it for the fifth Democratic debate. Here’s what you missed. \nGwyneth Kelly notes that Clinton made an interesting argument for why she’s not the establishment candidate.\nAlex Shephard notes that Clinton is still running on her old tagline, “Who do you want to answer the phone at 3 a.m.?”  Elspeth Reeve admires MSNBC’s use of a split screen.\nElizabeth Bruenig argues that Hillary Clinton wants you to believe she’s tough on Wall Street, even when she’s not.\nClinton also called the Sanders campaign’s attacks on her Wall Street ties an “artful smear,” Foehringer Merchant writes.\nShephard says Clinton still hasn’t figured out how to answer questions about her Wall Street connections.\n\n\n**Silhouette Value:** 0.16444888710975647\n\n#### People: Hillary Clinton Goes Head-to-Head with Bernie Sanders in Democratic Debate \nAlthough the two did tackle their respective plans for several issues, it seems Clinton set her sights on calling Sanders out for his months of criticism – or “artful smear,” as Clinton put it – suggesting hefty speaking fees from big business have influenced Clinton’s campaign.\n“There is a reason why these people are putting huge amounts of money into your political system,” he said, noting that Clinton’s alleged conduct is “undermining American democracy.”   Sanders walked in to the debate with a 20-point lead over Clinton, according to an NBC-Wall Street Journal-Marist poll.\n“So I think it’s time to end the very artful smear that you and your campaign have been carrying out.”    Sanders held to his familiar critique, noting that a super PAC funding Clinton is partly funded by banks.\nDespite rejecting Sanders’ criticisms, Clinton did note that she had not “done the job I should in explaining my record” in regard to her financial regulation.\n“[Senator Bernie Sanders] has said he wants to run a positive campaign.\n\n\n**Silhouette Value:** 0.12284929305315018\n\n#### Politico: Insiders: Bernie scored in debate with Wall Street slams \nIt was particularly brutal when she ticked off the various votes he's made over the years on guns and other issues which are decidedly not progressive.” And a third New Hampshire Democrat said Clinton “hammered home the point that she is the progressive who can get things done.” But some disagreed, arguing that Sanders was steady and believable during this discussion, and Clinton seemed less authentic.\n“All her responses fail to adequately address the issue.” “Hillary had an okay answer,” another Nevada Democrat agreed, “but you can tell she still looks uncomfortable delivering it.” Some Democratic insiders said while that part of the debate was fought on Sanders’ terrain, he failed to make the connection that Clinton would do the bidding of the moneyed interests he rails against.\nShe should have hit harder, however, and demanded Bernie outright say he thinks she can be bought, rather than letting him continue to insinuate it on the margins.” Other key takeaways from the fifth Democratic primary debate Thursday night: Clinton dinged Sanders during the blockbuster first segment.\n“His attack falls apart when you discuss it beyond sound bites.” “MSNBC was transparently trying to get Bernie and Hillary to attack each other the way Republican candidates do,” a Nevada Democrat added.\nIt's not rocket science.” Some Democrats admitted that Sanders’ answer to the electability question was affecting their ability to support the Vermont senator.\n\n\n**Silhouette Value:** 0.03962671011686325\n\n#### The Hill: Clinton, Sanders tangle in heated debate  \n\"I think it's time to end the very artful smear that you and your campaign have been carrying out over the past few weeks, and let’s talk about the issues that divide us.”  But Sanders kept the pressure up on Clinton's ties to Wall Street when he suggested she undervalued the role of money in politics.\n“If we’re going to talk progressive, I don’t think it was progressive to vote against the Brady Bill five times,” Clinton said.\nClinton came out swinging on Thursday, arguing that the Vermont Independent's ideas are unachievable because “the numbers just don’t add up” in Sanders’s proposals, adding, \"I'm not making promises that I cannot keep.\"\nAnd during a heated exchanged that elicited boos from the audience, she pushed back at Sanders's insinuation on the stump that she's in the pocket of Wall Street because she has taken donations from the financial industry.\nAn aggressive Clinton dominated early portions of the MSNBC/New Hampshire Union Leader debate, while Sanders later struck back on banking and campaign finance as the two squared off in the first one-on-one debate of 2016 just five days before the Granite State goes to the polls.\n\n\n**Silhouette Value:** 0.20706993341445923\n\n#### The New York Times: Who Won the Debate? Critics Are as Split as the Candidates \nThis was the most intense debate of the entire cycle, possibly foreshadowing an epic, long-running series of face-to-face contests alternating with primaries and caucuses well into the spring.” —Mark Halperin, managing editor of Bloomberg Politics “Now if they could just split the gig -- Bernie would cover domestic, Hillary on foreign policy.” — Mia Farrow, actress and activist video\n“The candidate that will gain from this zero-sum debate — the winner — will turn on something of an x-factor: did the undecided Democrats watching prefer Hillary Clinton’s direct, aggressive attacks on Bernie Sanders, most of them early in the night?\nThere’s an undeniable decency to him that you don’t often see at this level of American politics.” — Ezra Klein, founder of Vox.com “Crucial distinction between Bernie and Hillary on Flint: She suggests solutions, he demands punishments.” — Charlotte Alter, writer for Time “A weird advantage Sanders has in things like this: The naturalness in his interactions accentuates how Clinton struggles to seem at ease.” — Philip Bump, writer for The Washington Post’s blog “The Fix” “No offense to Martin O’Malley but it was really refreshing to finally get to hear Clinton and Sanders one on one.” — Joy Reid, author of “Fracture: Barack Obama, the Clintons, and the Racial Divide” “No surprise, Clinton won Foreign Policy.\nSanders wins round on trade agreements with Democrats.” — Steve Forbes, chairman of Forbes Media “The national security portion of the debate couldn’t end soon enough for Bernie Sanders.\nThis is why Clinton’s funding is so central to this campaign.” — Marc Cooper, retired professor at USC Annenberg School for Communication and Journalism “Both made strong attacks, and both defended effectively.\n\n\n**Silhouette Value:** 0.010576815344393253\n\n#### Vice: Hillary Clinton and Bernie Sanders Are Fighting Over the Future of the Democratic Party \nShe went on to lambast what she described as the Sanders campaign's \"innuendos\" and \"insinuation\" that her political career has been bought and sold by special interests.\nThe exchange was representative of the broader conflict going on between the moderate and progressive factions of the political left in the US—a divide that, whether or not the Democrats win in November, will likely determine the future of the party for years to come.\nToward the end of the debate, the moderators touched on foreign policy, but even then, the drama was limited to Sanders's continued attacks on Clinton's vote for the Iraq War, and his otherwise rambling responses on how he would handle international affairs as president.\nFor two hours straight, it was just Clinton and Sanders on stage in New Hampshire, and almost immediately MSNBC moderators Rachel Maddow and Chuck Todd started asking different variations of the question that Democratic voters have been fighting over for months: What does it mean to be a true progressive?\nFor weeks now, Vermont Senator Bernie Sanders and former Secretary of State Hillary Clinton have been quietly ripping into each other.\n\n\n**Silhouette Value:** 0.15586675703525543\n\n#### Vice News: Underdog Clinton Goes After Sanders in New Hampshire Debate \nHillary Clinton's rising frustrations at Bernie Sanders's surging campaign burst onto the debate stage last night in New Hampshire, as she accused her Democratic nomination rival of inciting a \"smear campaign\" against her, despite his insistence he would wage a clean, fair fight and not go negative.\nClinton challenged Sanders on the authenticity of his campaign and on-stage assertions that he respects the former secretary of state \"very much.\"\nWhile the candidates debated, the Sanders campaign sent an email to reporters titled \"Hillary Clinton — a progressive on some days,\" which included a list of issues on which the former secretary of state has taken a more moderate position.\nIn the days of campaigning ahead of the New Hampshire primary on Tuesday, Clinton will have to balance an effective takedown of what she perceives as Sanders's weak points on foreign policy and unachievable goals on healthcare and other proposals, while not going so far as to alienate his support base, in the event she does take the nomination.\nClinton accused Sanders of playing \"gatekeeper\" on progressivism, arguing that even President Obama wouldn't fit Sanders' definition.\n\n\n**Silhouette Value:** 0.18667525053024292\n\n#### Vox: Finally, Bernie Sanders and Hillary Clinton had a real argument over how politics works \nAnd where Clinton's experience gives her deep knowledge of virtually every facet of American policymaking, Sanders's career has let him focus on the issues he cares about, and left him poorly informed on international affairs.\nAmidst a question about President Obama's escalation of the war against ISIS, Sanders skipped past the specifics, saying simply, \"Let me agree with much of what the secretary said,\" and then pivoted to ground he's more comfortable on — attacking her 2002 vote to authorize the Iraq War.\nIt takes nothing away from the historic nature of her candidacy to say that everyone would characterize Clinton — a former first lady, senator, secretary of state, and Democratic frontrunner — as exemplifying the establishment.\nHer view of the political system is realistic, her knowledge of the issues is deep, and her social ties are strong.\nSanders's disinterest led to Clinton's best line of the night.\n\n\n**Silhouette Value:** 0.14666828513145447\n\n\n----\n### 2. Twitter Steps Up Efforts to Thwart Terrorists’ Tweets (10 articles)\n\n#### Gizmodo: Twitter Says It's Shut Down 125,000 Terrorist Accounts Since May \nThese “strategies” seem out-of-touch and straight out of the PR playbook, but canning 125,000 Twitter accounts is still impressive: The Brookings Institute recently estimated that only 90,000 terrorist accounts existed worldwide.Twitter reminds us there’s no “magic algorithm” to completely halting extremist activity online, and it often involves making judgment calls based on very little information.\nBut in a blog post today, Twitter says that kind of behavior flagrantly violates its terms of service, and reports that it’s suspended tens of thousands pro-ISIS accounts since May.“We have increased the size of the teams that review reports, reducing our response time significantly,” the company states.\nTerrorist groups like ISIS use social media to rally support around the world, using sites like Twitter to mobilize sympathizers into possible plots.\n“We also look into other accounts similar to those reported and leverage proprietary spam-fighting tools to surface other potentially violating accounts for review by our agents.”Tech companies like Twitter and Facebook are in a tough position—there’s an obvious problem, and they want to look like they’re doing something.\nAnd Facebook COO Sheryl Sandberg went so far last month as to say “likes” somehow discredit terrorist propaganda on Facebook.\n\n\n**Silhouette Value:** 0.7533852458000183\n\n#### Mashable: Twitter suspends more than 125,000 accounts for promoting terrorism \nMost of those accounts were tweeting about the Islamic State, an extremist group that has taken over a swath of territory in Iraq and Syria and committed other acts of terrorism outside those nations.\nAs Twitter said in its announcement, there's no \"magic algorithm\" for finding extremist content on the Internet.\nTwitter also says it has built up the team that reviews reports of terrorist threats and promotion, and has seen \"this type of activity shifting off of Twitter,\" the company wrote in a blog post.\nAnd of course, even if Twitter is becoming a less friendly space for ISIS sympathizers, it's not like they're fleeing the Internet.\nThe idea was that the more these extremists tweeted, the more U.S. officials would know about them and their followers.\n\n\n**Silhouette Value:** 0.704115629196167\n\n#### Politico: Twitter says it’s acting against terror groups \nAs Washington presses the tech industry to do more to combat online extremism, Twitter took to its blog to detail how it has ramped up its efforts in recent months, stressing it has \"already seen results, including an increase in account suspensions and this type of activity shifting off of Twitter.\"\n(Twitter also joined a high-profile session with Obama administration officials in Silicon Valley last month, POLITICO previously reported.)\nTwitter has suspended more than 125,000 accounts for \"threatening or promoting terrorist attacks primarily related to ISIS\" since the middle of last year, the company announced today.\n\"As an open platform for expression, we have always sought to strike a balance between the enforcement of our own Twitter Rules covering prohibited behaviors, the legitimate needs of law enforcement, and the ability of users to share their views freely - including views that some people may disagree with or find offensive,\" Twitter said.\nAnd it pointed out its work with organizations to counter extremist content and its attendance at government-run meetings, including the White House's summit on the issue last year.\n\n\n**Silhouette Value:** 0.668079674243927\n\n#### Reuters: Twitter suspends over 125,000 accounts for 'promoting terrorist acts' \n(bit.ly/1KvrmZ5) Twitter’s announcement comes as many tech companies – led by Facebook – have taken stronger steps to police controversial content online in the face of threats from legislators to force the companies to report “terrorist activity” on their sites to law enforcement.\nThe announcement was also notable because Twitter has said little about its efforts to combat Islamic State, also known as ISIS, and similar groups even though it has been criticized for not doing enough.\nSeamus Hughes, deputy director of George Washington University’s program on extremism, said Friday’s report showcased an “impressive number” of takedowns, but said that Twitter still appears to police extremist content in a mostly “episodic” way.\n“Addressing the use of social media by terrorists will require a sustained and cooperative effort between the technology sector, the Intelligence Community, and law enforcement,” he said.\nWASHINGTON (Reuters) - Twitter Inc (TWTR.N) has shut down more than 125,000 terrorism-related accounts since the middle of 2015, most of them linked to the Islamic State group, the company said in a blog post on Friday.\n\n\n**Silhouette Value:** 0.7596532702445984\n\n#### The Hill: Twitter suspends more than 125K accounts for promoting terrorism  \nThe announcement comes at a time when Twitter and other social media companies are under intense pressure from Washington to blunt the online influence of terror organizations like the Islamic State in Iraq and Syria (ISIS).\nShortly after Twitter’s post went live, Brett McGurk, who lead’s the State Department’s effort to build support against ISIS, applauded Twitter’s “Welcome moves.” And Rep. Adam Schiff (Calif.), ranking Democrat on the House Intelligence Committee, called Twitter’s removals “an important part of the fight against radical islam.” View the discussion thread.\nIn April of last year, Twitter explicitly banned statements “threatening or promoting” terrorism.\n“As many experts and other companies have noted, there is no ‘magic algorithm’ for identifying terrorist content on the internet, so global online platforms are forced to make challenging judgement calls based on very limited information and guidance,” Twitter said in its blog.\nSocial media companies have been more aggressive in publicizing their anti-terror efforts since that meeting.\n\n\n**Silhouette Value:** 0.7117176651954651\n\n#### The New York Times: Twitter Steps Up Efforts to Thwart Terrorists’ Tweets \n“As the nature of the terrorist threat has changed, so has our ongoing work in this area,” Twitter said in a statement, adding that it “condemns the use of Twitter to promote terrorism.” The company said its collective moves had already produced results, “including an increase in account suspensions and this type of activity shifting off Twitter.” The disclosure follows intensifying pressure on Twitter and other technology companies from the White House, presidential candidates like Hillary Clinton and government agencies to take more action to combat the digital practices of terrorist groups.\n“Twitter has ramped up its response significantly since June 2014, and again since the Paris attacks, but ISIS has still maintained a notable presence on the platform,” said J. M. Berger, a fellow with George Washington University’s Program on Extremism and author of books on extremist issues.\nHe added that Facebook, the biggest social network, has also “been very aggressive on this issue, about as much as anyone could reasonably expect, but we still see some ISIS activity.” Twitter’s disclosure of the number of terrorist account suspensions sets it apart from its social media peers.\nAnd for years, extremist groups like the Islamic State have taken advantage of that stance, using Twitter as a place to spread their messages.\nOnline extremist content includes Twitter accounts like @Musliiiiimah_1.\n\n\n**Silhouette Value:** 0.803056001663208\n\n#### The Verge: Twitter has suspended 125,000 ISIS accounts since mid-2015 \nThe move comes as Twitter is facing increasing criticism from some in Washington for the perceived presence of ISIS-friendly Twitter accounts.\nTwitter claims those tactics have resulted in more than 125,000 accounts suspended for threatening or promoting terrors acts since the middle of last year.\nAt the same time, Twitter has also drawn criticism for being overly aggressive in suspending accounts, as when it briefly suspended an Arab Spring activist over a misunderstanding at the end of last year.\nTwitter is coming clean about its efforts to fight terrorist-aligned accounts.\n\"We have already seen results,\" the post reads, \"including an increase in account suspensions and this type of activity shifting off of Twitter.\"\n\n\n**Silhouette Value:** 0.758265495300293\n\n#### Vice: ​Twitter: We've Blocked 125,000 ISIS Accounts Since Mid-2015 \nTwitter has long come under fire for ISIS's extensive presence on the platform.\nOn top of that, Twitter has added more personnel to look at any accounts reported for threatening or promoting terrorism, and is also \"leverag[ing] proprietary spam-fighting tools to surface other potentially violating accounts for review by our agents.\"\nAs the company itself points out, in July 2015, FBI Director James Comey said that Twitter was \"very good and thoughtful and hardworking at trying to shut down [terrorism-related] accounts.\"\nTwitter is also partnering with anti-extremist organizations, and has been cooperating with law enforcement \"when appropriate.\"\nTwitter's latest announcement comes at a time when ISIS's online presence is increasingly politicized.\n\n\n**Silhouette Value:** 0.7638776898384094\n\n#### Vox: Twitter Says It Took Down 125,000 ISIS-Related Accounts Since Last Year \nTwitter does not actively look for terrorist accounts, but instead relies on users to report them.\nTwitter says it is doing its part to combat terrorism online.\nA study released in the fall by George Washington University found that Twitter was indeed the platform of choice for ISIS propagandists in part because creating accounts is so simple.\nThe company announced today that it has “suspended over 125,000 accounts for threatening or promoting terrorist acts primarily related to ISIS” since the middle of last year.\nThis is one of the challenges for Twitter, which offers its users anonymity (unlike, say, Facebook).\n\n\n**Silhouette Value:** 0.7464978694915771\n\n#### Wired: Twitter Wants You to Know That It Is Fighting Terrorists \nWhile Facebook has taken a blunt approach toward removing any and all posts that have even a whiff of terrorism, Twitter has sought to strike a balance between protecting free speech and cracking down on people who use Twitter as a way to promote violence or threats.\nTwitter wants you to know that it is just as horrified as you are about the tweets on its platform promoting terrorism—and that, yes, the company is trying to combat it.\nIn recent months, Twitter has come under fire as ISIS propagandists used the platform to promote their cause and recruit would-be militants.\nPeople complain readily (and rightfully) about Twitter's failure to find a real solution to harassment on its platform.\nIn some cases, after all, one person's political speech is another's call for terrorism.\n\n\n**Silhouette Value:** 0.662918210029602\n\n\n----\n### 3. Why the UN ruled Julian Assange is being “arbitrarily detained,\" and why it matters (10 articles)\n\n#### Gizmodo: UN Panel Rules That, Yes, Julian Assange Has Been Arbitrarily Detained \nA United Nations panel has ruled that Julian Assange has been “arbitrarily detained by the Governments of Sweden and the United Kingdom” and believes he is “entitled to his freedom of movement.”Assange and his legal team complained to the UN’s Working Group on Arbitrary Detention in 2014 that his living in 300 square feet within the Ecuadorian Embassy was unwarranted and had taken a toll on his health.\nThe Working Group also considered that the detention should be brought to an end and that Mr. Assange should be afforded the right to compensation.Swedish authorities have been seeking Assange over allegations of rape, but he has resisted questioning—largely over fears that he may end up extradited to the US.\nNow, the panel has determined that Assange has “been subjected to different forms of deprivation of liberty” since his initial arrest back in 2010.\nIndeed, London’s police force has already pointed out that the UN ruling doesn’t undermine the European arrest warrant against him, and say he’d still be taken into custody if he were to leave the embassy.According to BBC Radio 4, Assange will provide a reaction to the news via Skype later today.\nIt explains:The Working Group therefore requested Sweden and the United Kingdom to assess the situation of Mr. Assange to ensure his safety and physical integrity, to facilitate the exercise of his right to freedom of movement in an expedient manner, and to ensure the full enjoyment of his rights guaranteed by the international norms on detention.\n\n\n**Silhouette Value:** 0.7771936058998108\n\n#### Mashable: UN: Julian Assange should go free and be paid for years-long standoff \nUPDATED: 4:40 p.m. GMT LONDON — WikiLeaks founder Julian Assange said a UN decision that he should be allowed to move freely without arrest was a \"vindication,\" and he criticised the Swedish and British governments for their objection to the decision.\nForeign Secretary Philip Hammond said the decision was \"ridiculous\" and that Assange was a \"fugitive from justice.\"\nFront row seats #Assange #UNWGAD pic.twitter.com/dmOIcAeQas — Chris Ellis (@MrChrisEllis) February 5, 2016 The panel's decision doesn't legally require the governments to lift or not serve the arrest warrant on Assange, but it would support his case for being allowed to move freely.\nEarly Thursday morning, Assange issued a statement via the WikiLeaks Twitter account that if the UN panel ruled against him, he would walk out of the embassy at noon Friday and accept arrest.\nThe United Nations Working Group on Arbitrary Detention said earlier Friday that Assange has been arbitrarily held since his arrest in London in Dec. 7, 2010, over allegations of sex crimes.\n\n\n**Silhouette Value:** 0.8234489560127258\n\n#### People: Julian Assange Makes Appearance in London After U.N. Decision \nOn Friday, the journalist and publisher took to the small balcony of the Ecuadorian Embassy in London, where he’s claimed political asylum since 2012, to praise the United Nations for deciding he’s been unlawfully detained, with a cry of “How sweet it is!” “This is a victory that cannot be denied,” Assange added to the swelled ranks of reporters gathered underneath.\nWorking Group on Arbitrary Detention today ruled this detention unlawful, adding that Assange is “entitled to his freedom of movement and to compensation”.\n“I have been detained now without charge in this country, the United Kingdom, for five-and-a-half-years,” Assange said to reporters via video link on Friday.\n— Philip Hammond (@PhilipHammondUK) February 5, 2016  Speaking on British TV, Hammond later called the U.N.’s decision “flawed” and “ridiculous”, before adding, “He’s hiding from justice in the Ecuadorian embassy.\nIn a tweet, British Foreign Secretary Philip Hammond described Assange as a “fugitive from justice, voluntarily hiding in the Ecuadorian embassy”.\n\n\n**Silhouette Value:** 0.7053467631340027\n\n#### Politico: Julian Assange: I've been vindicated \nGENEVA — A U.N. human rights panel says WikiLeaks founder Julian Assange has been \"arbitrarily detained\" by Britain and Sweden since December 2010.\nSwedish prosecutors want to question Assange over allegations of rape stemming from a working visit he made to the country in 2010 when WikiLeaks was attracting international attention for its secret-spilling ways.\nAssange has consistently denied the allegations but declined to return to Sweden to meet with prosecutors and eventually sought refuge in the Ecuadorean embassy in London, where he has lived since June 2012.\nAssange says the findings are a \"vindication.\"\nWorking Group on Arbitrary Detention said his detention should end and he should be entitled to compensation.\n\n\n**Silhouette Value:** 0.7707222104072571\n\n#### The Hill: UN panel concludes WikiLeaks founder has been ‘arbitrarily detained’  \nA United Nations working group on Friday concluded that WikiLeaks founder Julian Assange has been “arbitrarily detained” by Sweden and the United Kingdom during his more than three-year stay in the Ecuadorian embassy in London.\n“The Working Group maintains that the arbitrary detention of Mr. Assange should be brought to an end, that his physical integrity and freedom of movement be respected, and that he should be entitled to an enforceable right to compensation,” said Seong-Phil Hong, the U.N. panel’s leader.\nIn addition to his confinement in the embassy, the U.N. panel also raised concerns about Assange's 10-day detainment in a London prison back in 2010, and the report accused Swedish prosecutors of a lack of diligence, which led to his lengthy stay in the embassy.\nAssange requested asylum in Ecuador in 2012 and has remained in the country’s embassy in London ever since.\nThe decision could have little effect, since British authorities have said that if Assange leaves the embassy, they still plan to arrest and extradite him to Sweden, where he is wanted in questioning for rape accusations.\n\n\n**Silhouette Value:** 0.8011159896850586\n\n#### The New York Times: Australia Reacts to U.N. Decision on Julian Assange \nSYDNEY, Australia — Julie Bishop, Australia’s foreign minister, has sought legal advice on the implications of a United Nations decision on Friday that the WikiLeaks founder Julian Assange, an Australian, has been unlawfully held by Sweden and Britain for more than five years.\n“I have now read the report and I am seeking legal advice on its implications for Mr. Assange, as an Australian citizen,” she said in a brief statement issued from London.\nThe lawfulness of my detention, or otherwise, is now a matter of settled law.” The United Nations Working Group on Arbitrary Detention criticized a lack of diligence in the Swedish prosecutor’s office and concluded Mr. Assange’s detention should be bought to an end.\nMr. Assange said in the video link that he understood what he called a domestic “political imperative” of both governments to look like they had made the correct decision around his detention, but went on to say that it had been unlawful.\nMr. Assange, 44, sought refuge in the Ecuadorean Embassy in London in 2012 to avoid extradition to Sweden, where he faced an allegation of rape.\n\n\n**Silhouette Value:** 0.6984354257583618\n\n#### The Verge: UN: Julian Assange has been arbitrarily detained and deserves compensation \n\"To go against a decision would be to go against a unit of the United Nations, and their own interpretation of human rights,\" Per Samuelsson, a lawyer for Assange, told The New York Times yesterday.\nIn a statement released Friday, the UNWGAD said that Sweden and the UK should work to guarantee Assange's \"safety and physical integrity, to facilitate the exercise of his right to freedom of movement in an expedient manner, and to ensure the full enjoyment of his rights guaranteed by the international norms on detention.\"\nThis week, Sweden said it would reject the panel's findings and continue to pursue extradition, though Assange's lawyers are hopeful that the UN decision will pressure authorities to change its position.\n\"While I understand the momentary political imperatives for representatives of Sweden and the UK to look like they were correct in their earlier, unlawful decisions, the fact is that they are not,\" Assange said.\nIn a report published today, the UN Working Group on Arbitrary Detention (UNWGAD) said that Sweden and the UK should compensate Assange for the detention, though the ruling is not legally binding.\n\n\n**Silhouette Value:** 0.7818725109100342\n\n#### Vice: It's Official: UN Tells UK and Sweden Julian Assange Is Arbitrarily Detained \n\"The Working Group on Arbitrary Detention considers that the various forms of deprivation of liberty to which Julian Assange has been subjected constitute a form of arbitrary detention,\" said Seong-Phil Hong, who currently heads the expert panel, in a statement.\nAnna Ekberg, spokesperson for the Swedish foreign ministry, told the Guardian on Thursday: \"The UN working group on arbitrary detention has concluded that Mr Assange is arbitrarily detained.\nAssange sent a complaint about his situation to the UN Working Group on Arbitrary Detention in 2014.\nA UN panel has ruled that Wikileaks editor Julian Assange's confinement to the London Ecuadorian embassy qualifies as arbitrary detention.\n\"The Working Group maintains that the arbitrary detention of Mr. Assange should be brought to an end, that his physical integrity and freedom of movement be respected, and that he should be entitled to an enforceable right to compensation,\" Mr. Hong added.\n\n\n**Silhouette Value:** 0.7559503316879272\n\n#### Vice News: 'Victory and Vindication': Julian Assange Slams UK Response to UN Ruling \nBritain and Sweden have rejected the panel's opinion that Wikileaks founder Julian Assange is a victim of arbitrary detention, with the UK government saying he will be arrested if he leaves the Ecuadorean embassy where he has been living for three and a half years.\nThe Swedish government echoed the UK's opinion that Assange could not be a victim of arbitrary detention given that he chose to live in the embassy and was free to walk out at any time.\n\"Mr Assange has chosen, voluntarily, to stay at the Ecuadorian Embassy and Swedish authorities have not control over his decision to stay there,\" it said.\nThe UN Panel on Arbitrary Detention formally ruled on Friday that \"the various forms of deprivation of liberty\" Assange had experienced — an initial period of remand at London's Wandsworth Prison in 2010, followed by house arrest and his time at the embassy — mounted to arbitrary detention, a decision taken after more than a year considering a complaint that the computer hacker filed to the working group in September 2014.\n\"Mr Assange is free to leave the Embassy at at any point.\n\n\n**Silhouette Value:** 0.8147341012954712\n\n#### Vox: Why the UN ruled Julian Assange is being “arbitrarily detained,\" and why it matters \nThe UN body \"called on the Swedish and British authorities to end Mr. Assange’s deprivation of liberty, respect his physical integrity and freedom of movement, and afford him the right to compensation.\"\nBy calling the decision \"legally binding\" and emphasizing the authority of the UN panel, Assange is hoping both to show that his claim that he's being unlawfully detained is legitimate and to raise the stakes for the British and Swedish governments for continuing to seek his arrest and extradition.\nIt's not legally binding — the UK isn't now required to let him go free, and has explicitly stated that it won't — but Assange is likely hoping this will help him build a larger case for one day convincing the UK it should let him leave the embassy where he's lived since 2012.\nSo Correa agreed to grant Assange asylum in the Ecuadorian embassy in London so that the British couldn't arrest him and extradite him to Sweden, and potentially on to the US.\nAs part of this effort, Assange and his lawyers in 2014 appealed to the UN human rights body in charge of determining whether individuals imprisoned around the world are being detained lawfully, asking them to examine his case and issue a ruling.\n\n\n**Silhouette Value:** 0.8187257051467896\n\n\n----\n### 4. National 2016 poll: Ted Cruz and Marco Rubio gain on Donald Trump (4 articles)\n\n#### CNN: Quinnipiac poll: Sanders and Clinton neck-and-neck \nSanders handily beats Trump by a 10-point margin, defeats Cruz by four points and ties Rubio, with each taking 43%, according to Quinnipiac.\nCNN's own national Poll of Polls from just before Iowa found Clinton at 53%, Sanders at 36% and former Maryland Gov.\nTrump tops the field with 31% of support, with Cruz and Rubio following at 22% and 19%, respectively, according to the Quinnipiac poll.\nThe poll shows Bloomberg largely cutting into Sanders' lead over Trump, bringing Sanders down to 35% to Trump's 36%, with Bloomberg taking 15%.\nNational polls conducted before the Iowa caucuses showed the Democratic race tightening, but with Clinton still leading Sanders by double digits.\n\n\n**Silhouette Value:** 0.09880458563566208\n\n#### Politico: National 2016 poll: Ted Cruz and Marco Rubio gain on Donald Trump \nThe survey finds Trump with 31 percent nationally, Cruz with 22 percent and Rubio with 19 percent.\nThe picture of a neck-and-neck race is a huge change from Quinnipiac’s last national poll conducted Dec. 16-20 that showed Clinton with a massive lead over Sanders, 61 percent to 30 percent.\nNo other candidate polls in the double digits: Retired neurosurgeon Ben Carson has 6 percent, the rest are at or below 3 percent and 9 percent of those polled are still undecided.\nClinton leads Sanders 44 percent to 42 percent, well within the margin of error of the poll, which was conducted after the Iowa caucuses.\nCruz comes in second in that category with 15 percent, and 7 percent would not support Rubio.\n\n\n**Silhouette Value:** 0.20815743505954742\n\n#### The Hill: Poll: Trump leads NH; Rubio in second  \nWith four days left before the Granite State primary, an NBC/Wall Street Journal/Marist poll released Friday shows Trump leading the GOP pack, with 30 percent support, followed by Rubio, at 17.\nAlso gaining ground in poll: Ted Cruz, up from 12 percent to 15, and Jeb Bush, up a point to 9 percent.\nIn the same survey a week earlier, Trump sat at 31 percent and Rubio 11.\nThe NBC News poll is at least the third this week to show Rubio rising to second place behind Trump after his strong third-place finish in the Iowa caucuses.\nJohn Kasich (10 percent) comes in fourth in the survey behind Trump, Rubio and Cruz.\n\n\n**Silhouette Value:** 0.33360984921455383\n\n#### The New York Times: Chris Christie's Support in New Hampshire Falls, Poll Says - First Draft. Political News, Now. \nAn NBC/WSJ/Marist poll shows Mr. Christie’s support among likely Republican voters dropped to 4 percent, from 7 percent, in the last week, leaving him in sixth place.\nJeb Bush of Florida, 9 percent, who are banking on strong performances in New Hampshire.\nThat survey still showed Mr. Trump leading at 29 percent, but Mr. Rubio was just 10 points behind him.\nMeanwhile, separate polls released on Friday show Mr. Trump’s support holding firm in New Hampshire.\nA Suffolk University/Boston Globe poll indicated that Mr. Rubio was gaining momentum after his strong showing in Iowa.\n\n\n**Silhouette Value:** 0.4147711396217346\n\n\n----\n### 5. Three Big Questions on the Job Market, and How January’s Numbers Answer Them (6 articles)\n\n#### Business Insider: Barclays interest rate hike forecast \nThe firm writes (emphasis added): While we have not changed our view that labor markets remain healthy and, in turn, recession risk for the US economy remains low, the weakness in services sector employment in the establishment report is likely to keep uncertainty about the state of the economy elevated.\nBarclays economists got mixed signals from Friday's jobs report.\nNow, we'd remind readers that after the market volatility in August, Barclays pushed out their forecast for the first rate hike in a decade to March 2016.\nAnd so even though the headline payrolls number was lower than expectations, wage growth, the unemployment rate, and seasonal considerations made it a solid report overall.\nThe Fed raised rates in December 2015.\n\n\n**Silhouette Value:** 0.1935020089149475\n\n#### CNBC: Why the jobs report is actually good news—commentary \nWhile it may not be obvious on the surface, the January U.S. job report could provide a lift to flagging financial spirits.\nThe gains are smaller than we had seen in recent reports — and smaller than expected — but there was some good news in there.\nBut continued gains in jobs and wages should reduce the likelihood of a worst-case outcome and allow the Federal Reserve to continue normalizing conditions later on this year.\nAfter five weeks of disappointing market outcomes, the world could use some good news.\nBy that measure, January's outcome is hardly disappointing.\n\n\n**Silhouette Value:** 0.42617473006248474\n\n#### Politico: Economy added 151,000 jobs in January \nJason Furman, chairman of the White House Council of Economic Advisers, acknowledged the January slowdown, but said in a blog post that the job-growth numbers were still \"well above the pace necessary to maintain a low and stable unemployment rate.\"\nJanuary's weak job growth, combined with last week's Commerce Department report of lackluster GDP growth during the fourth quarter of 2015, is potentially bad news for any Democratic nominee who hopes to run on President Barack Obama's economic legacy — though that nominee could still point to an unemployment rate that's been cut in half since the president took office.\nElise Gould, senior economist at the left-leaning Economic Policy Institute, said that despite January's low number the jobs report \"is a sign that the economy continues to recover.\"\nHe noted that unemployment hadn't been 4.9 percent since February 2008, and that a \"2.9-percent annualized pace over the past six months is the strongest since the recovery began.\"\nThe jobs report followed news last week from the Commerce Department that GDP increased 0.7 percent during the fourth quarter of 2015 — a decline from the third quarter’s 2 percent — and 2.4 percent for the year.\n\n\n**Silhouette Value:** 0.43692314624786377\n\n#### The Hill: Jobless rate falls to 4.9 percent, an 8-year low  \nEconomists had expected between 185,000 and 200,000 jobs, so January’s numbers will add to fears about the strength of the economy in 2016.\nThe U.S. economy added 151,000 jobs in January — well below the robust pace at the end of 2015, but placing the unemployment rate under 5 percent for the first time in nearly eight years.\n“While 151,000 new jobs in January is below expectations and off pace from prior months, the data shows America's recovery is continuing,” Bovino said.\nSophia Koropeckyj, managing director at Moody’s Analytics, said that “January's disappointing top-line payroll number belies the fairly healthy and resilient employment situation.” “Consumer industries such as retail, leisure/hospitality and financial services continued to expand in January, underscoring the resilience of U.S. consumer to global weakness and, so far, financial turmoil,\" Koropeckyj said.\n“Amid all the global economic turmoil and domestic market gyrations, positive job growth, the drop in the unemployment rate to 4.9 percent, and the uptick in wages show the U.S. is heading in the right direction.” Bovino said the recent jobs data will give the Federal Reserve plenty to weigh at its next meeting, but the steady jobs data and a 2.5 percent year-over-year increase in wages supports more interest rate hikes this year.\n\n\n**Silhouette Value:** 0.5788518786430359\n\n#### The New York Times: Three Big Questions on the Job Market, and How January’s Numbers Answer Them \nJobs Report Get used to jobs numbers like those newly reported for the United States Friday morning — if we’re lucky.\nIt’s hardly enough to solve the problem of America’s missing work force, but for one month at least the numbers were pointing in the right direction.\nIt’s not that the new data blew the lid off expectations or pointed to some radical acceleration in job growth in the opening weeks of 2016.\nHow close are we to full employment?\nWhat exactly constitutes full employment is open for debate, but it’s important to note that we are now within sight of a jobless rate that matches the low point of the 2002-2007 expansion (4.4 percent, achieved in several months in 2006 and 2007).\n\n\n**Silhouette Value:** 0.6238390803337097\n\n#### Vox: The unemployment rate is below 5 percent for the first time since 2008 \nBut while the unemployment rate is relatively low, slow wage growth and modest job creation seem like signs that the economy is in no danger of overheating, suggesting that the Fed might want to hold off on further interest rate increases.\nAnother sign of this is wage growth.\nOver the past year, the average worker's hourly earnings have risen by 2.5 percent — just slightly faster than the (currently quite low) rate of inflation.\nThat's a bit of a slowdown — in 2015, the economy created approximately 225,000 new jobs, on average, per month.\nIn a really strong economic boom — the kind we enjoyed in the 1990s, for example — we should be seeing workers' wages growing much faster than the inflation rate, producing real increases in people's standards of living.\n\n\n**Silhouette Value:** 0.39930111169815063\n\n\n----\n### 6. To avoid Zika virus, CDC says pregnant women should use condoms or abstain from sex (6 articles)\n\n#### CNN: CDC issues new safe-sex guidelines around Zika virus \nOfficials also said that pregnant women who have been exposed to Zika should talk with their doctors about testing for the virus.\nSeventeen of those cases have a confirmed link to the Zika virus.\n\"If you're pregnant, and you're thinking about traveling to a place were Zika is spreading, please don't.\nWhile saying that the situation with Zika is \"evolving rapidly\" and that much had been learned in just the past two weeks, CDC Director Dr. Tom Frieden stressed in a news briefing that the primary concern with Zika at this time is protecting pregnant women and their unborn babies from a neurological disorder known as microcephaly.\n\"If you live in an area where Zika is spreading and you're pregnant, please protect yourself against mosquitoes.\n\n\n**Silhouette Value:** 0.1981562227010727\n\n#### Gizmodo: New Zika Guidelines Advise Pregnant Women to Avoid Sex \nSexual transmission of Zika is possible, and because the mosquito-borne disease has been potentially linked to birth defects, it’s of particular concern during pregnancy.\nThe new interim guidelines, released today, offers recommendations for men and their pregnant partners:Men who reside in or have traveled to an area of active Zika virus transmission who have a pregnant partner should abstain from sexual activity or consistently and correctly use condoms during sex (i.e., vaginal intercourse, anal intercourse, or fellatio) for the duration of the pregnancy.\nThe U.S. Centers for Disease Control and Prevention is asking pregnant women to abstain from sex if their partner has recently visited an area where Zika is currently active.\nPregnant women should discuss their male partner’s potential exposures to mosquitoes and history of Zika-like illness with their health care provider; providers can consult CDC’s guidelines for evaluation and testing of pregnant women.As for men and their nonpregnant sex partners, the CDC says they “might consider abstaining from sexual activity or using condoms consistently and correctly during sex.”Zika, it’s important to point out, causes relatively mild symptoms, and for most people it’s nothing to worry about.\nConsequently, the CDC is advising that people take special precautions after visiting an area where Zika is currently making the rounds.\n\n\n**Silhouette Value:** 0.281614750623703\n\n#### Mashable: To avoid Zika virus, CDC says pregnant women should use condoms or abstain from sex \nWhile the CDC's main focus is on preventing pregnant women from being infected with the virus, the new guidelines also include recommendations for non-pregnant women, and men with non-pregnant sexual partners who live in or have traveled to Zika-affected areas.\nHere is the CDC's advice for this category of people: Couples in which a man resides in or has traveled to an area of active Zika virus transmission who are concerned about sexual transmission of Zika virus may consider using condoms consistently and correctly during sex or abstaining from sexual activity.\nThe Centers for Disease Control and Prevention (CDC) on Friday issued new interim guidance for the prevention of sexual transmission of the Zika virus, as well as new interim guidance for health care providers to use in taking care of pregnant women and women of reproductive age.\nAccording to the CDC: \"Men with a pregnant sex partner who reside in or have traveled to an area of active Zika virus transmission and their pregnant sex partners should consistently and correctly use condoms during sex (vaginal, anal, or oral) or abstain from sexual activity for the duration of the pregnancy.\nIt also says pregnant women should use condoms to prevent the spread of Zika, or consider abstaining from sex for the duration of their pregnancy.\n\n\n**Silhouette Value:** 0.20988470315933228\n\n#### Reuters: CDC widens Zika guidelines for pregnant women \n(Reuters) - The U.S. Centers for Disease Control and Prevention on Friday revised its guidelines for pregnant women to include a recommendation that even those without symptoms of the Zika infection be tested after returning from affected areas.\nDallas County reported on Tuesday that the first known case of Zika contracted in the United States was a person infected after having sex with someone who had returned from Venezuela.\nThere is no vaccine or treatment for Zika, which has caused outbreaks in at least 26 countries in the Americas.\nExperts have said that since 80 percent of those infected by the virus show no symptoms it leaves many women no way of knowing early enough to make an informed choice about their unborn child.\nThe updated guidelines recommend pregnant women be offered testing 2 to 12 weeks after returning from affected areas, while the agency had earlier suggested tests for those already experiencing symptoms.\n\n\n**Silhouette Value:** 0.14352205395698547\n\n#### The Hill: CDC steps up warnings about sexual transmission of Zika virus  \nOut of those cases, six have been pregnant women and one child has been affected.\nTwenty cases have also been reported in Puerto Rico, a U.S. territory.\nThe Zika virus has been rapidly spreading across South America and Central America: The CDC has issued travel warnings for more than 25 countries.\nWhile the virus causes mild symptoms in adults, it has been linked to birth defects in babies born to Zika-infected women.\nFederal health officials are stepping up their warnings of the virus, which was transmitted sexually in Texas for the first time this week — the first locally transmitted case in the U.S.\n\n\n**Silhouette Value:** -0.0022366761695593596\n\n#### The New York Times: Brazil Finds Zika Virus in Human Urine and Saliva, but Risk Is Unclear \nThe findings point to the frenetic efforts by researchers in Brazil and other countries to determine the risks posed by the mosquito-borne Zika virus as it spreads through more than two dozen countries in the Americas.\nRIO DE JANEIRO — Brazilian scientists said Friday that they had detected the presence of the Zika virus in samples of human saliva and urine, a first for Brazil.\nFrench scientists had already published research last year in the Journal of Clinical Virology that located the Zika virus in human saliva following an outbreak of the virus in 2013 and 2014 in French Polynesia.\nDr. Bonaldo and officials at the institute said that they had obtained the samples from two patients with Zika-like symptoms; one was found to have the virus in urine, the other had Zika in the saliva sample.\nThe Brazilian researchers warned that the virus might have the potential to spread through kissing or urine, but they were quick to point out that this still remains to be proved.\n\n\n**Silhouette Value:** 0.22849991917610168\n\n\n----\n### 7. Hillary Clinton Is Again Put on the Defensive Over Perceived Ties to Wall Street (4 articles)\n\n#### CNN: $153 million in Bill and Hillary Clinton speaking fees, documented \nThe two also reported at least $7.7 million for at least 39 speeches to big banks, including Goldman Sachs and UBS, with Hillary Clinton, the Democratic 2016 front-runner, collecting at least $1.8 million for at least eight speeches to big banks.\nThat time Sanders voted for Bill Clinton's plan to loosen regulation on Wall Street The Clinton campaign has been noncommittal about releasing transcripts of the paid speeches and Clinton has told reporters that she will \"look into\" making her remarks public.\n\"What being part of the establishment is, is in the last quarter, having a super PAC that raised $15 million from Wall Street, that throughout one's life raised a whole lot of money from the drug companies and other special interests,\" Sanders said at Thursday's Democratic debate hosted by MSNBC.\nSanders: Clinton is 'funded by Wall Street' The former secretary of state testily responded to Sanders' charges.\nThe analysis was made at a time when Hillary Clinton has been under scrutiny for her ties to Wall Street, which has been a major focus of Vermont Sen. Bernie Sanders on the campaign trail.\n\n\n**Silhouette Value:** 0.2827678918838501\n\n#### New Republic: Hillary Clinton Wants You to Believe She’s Tough on Wall Street. She’s Not. \nMSNBC’s Rachel Maddow pointed out that the “most frequent area of concern” reporters hear from voters leaning toward Sanders is whether Clinton has been “too close to Wall Street.” Maddow asked Clinton if she has been too dismissive of voters’ concerns in that regard, including the $675,000 that Goldman Sachs paid her in speaking fees.\nLastly, this particular effort at wrapping up the Wall Street question on Clinton’s behalf has the potential to call her opposition to Citizens United into question, given her claim that money in politics shouldn’t necessarily be read as a corruption threat.\nIf the circumstances warrant it, I know I will certainly use it.” It was the second time in the debate she had said she would break up big banks if “they prove to be a systemic problem,” and the second time she alluded to Obama having less-than-pure progressive credentials by Sanders’s standards, having received Wall Street money himself.\nHillary's position: if you take Wall Street $$$ & are criticized for it, that's an unfair smear.\nBack in November, Hillary Clinton responded to criticisms of her Wall Street ties by pointing out that, as a senator from New York who had represented the state before and during 9/11, she was obligated to represent their interests.\n\n\n**Silhouette Value:** 0.2104506939649582\n\n#### Politico: Clinton pollster: Voters don't care about Hillary's paid-speech transcripts \nThe Sanders campaign has been targeting Clinton’s paid speeches to organizations, particularly to Goldman Sachs, in recent days.\nHillary Clinton’s pollster doesn’t think voters care about her paid speeches, a point that Bernie Sanders has tried to use to illustrate the former secretary of state’s ties to Wall Street.\nDuring Thursday night’s Democratic debate, MSNBC moderator Chuck Todd asked Clinton if she would consider releasing transcripts from her paid speeches.\nBenenson also said he felt like Sanders’ invoking of Obama is an attempt to “co-opt” Clinton’s message.\n“I've got a real problem with people, you know, receiving -- you know, for an hour's work to earn $200,000 plus dollars, I have a real problem with that,” Sanders to MSNBC’s “Morning Joe” Wednesday.\n\n\n**Silhouette Value:** 0.13133876025676727\n\n#### The New York Times: Hillary Clinton Is Again Put on the Defensive Over Perceived Ties to Wall Street \n“I don’t know the status, but I will certainly look into it.” For Mrs. Clinton, the key question should not be whether she received generous checks from Wall Street, but whether she did their bidding in return.\n“Wall Street is an entity of unbelievable economic and political power.” In an election year fueled by the anger over the growing gap between rich and poor, Mrs. Clinton, who is widely viewed as too close to the financial sector, seems an imperfect messenger for change.\nIn her 2008 presidential campaign, Mrs. Clinton ran to the left of Barack Obama, angering some of her Wall Street donors with a 2007 speech in which she called for eliminating the so-called carried interest loophole, rolling back the Bush-era tax cuts on the wealthy, placing limits on chief executives’ compensation and imposing tighter regulations on derivatives.\nThroughout the debate, Mrs. Clinton found herself cornered by Senator Bernie Sanders and the moderators about her ties to Wall Street, the political contributions that have bolstered her campaign account, and the hundreds of thousands of dollars in paid speaking fees she received from Goldman Sachs and other financial firms in the months after she left the State Department.\nShe has developed sophisticated policy proposals that many economists agree would aggressively regulate the financial sector, but they have collided with the image that Sanders supporters and other political rivals have painted of her: Wall Street’s friend and defender.\n\n\n**Silhouette Value:** 0.3144300878047943\n\n\n----\n### 8. Thousands flee as Russian-backed offensive threatens to besiege Aleppo (5 articles)\n\n#### CNN: Battle for Aleppo: Syrian civil war may get much worse \nAnd one problem looms for the rebels' backers in the West and Gulf: one of the main forces moving in to try and fight for rebel-held areas of Aleppo, is the al-Nusra Front.\nNow, as thousands flee to the Turkish border from Russian airstrikes pounding the city and government forces moving in, the battle for Aleppo is again gaining significance.\nAll sides on the move It is too early to tell whether the move to take Nubul and Zahraa really has cut off rebel supplies into the city.\nSince then it has been bombarded, seen al-Nusra Front (al Qaeda in Syria) sweep in, have moderates resist them as well as ISIS, and now faces what might be a prolonged siege.\nIt may change fast, but Syria's war refuses to see even the beginning of its end.\n\n\n**Silhouette Value:** -0.0061761559918522835\n\n#### Mashable: Tens of thousands of Syrians flee Aleppo as government offensive intensifies \n So #Aleppo-city now surrounded by SAA from 3 sides (south,north,east) &no way to Bab alSalameh, only to Bab alHawa pic.twitter.com/PwJKbL9Qr4 — Jenan Moussa (@jenanmoussa) February 5, 2016 While Turkey has not allowed the thousands to enter the country, it has activated an emergency protocol allowing for the rapid processing of refugees, the BBC reported.\nRussian airstrikes in Syria have mainly targeted opposition forces and led to increased violations of Turkish airspace.\nThe offensive, which began earlier this week, has cut an important rebel supply line to Turkey and led to a mass exodus of tens of thousands of people who are now piling up at the Syrian-Turkish border and trying to reach safety.\nBacked by hundreds of Russian airstrikes, the forces of Syrian President Bashar Assad and allied militias have almost completely encircled Aleppo in what humanitarian groups warn may lead to a major humanitarian crisis.\nThe Syrian government offensive comes after the collapse of peace talks earlier this week.\n\n\n**Silhouette Value:** -0.04249032959342003\n\n#### Reuters: Thousands flee as Russian-backed offensive threatens to besiege Aleppo \nAleppo, Syria’s commercial hub, has been divided for years between a section under government control and areas in the grip of rebels.\nThe last two days saw government troops and their Lebanese and Iranian allies fully encircle the countryside north of Aleppo and cut off the main supply route linking the city - Syria’s largest before the war - to Turkey.\n“The international community must take urgent, concrete steps to address it.” NON-STOP RUSSIAN AIR STRIKES “The Russian (air) cover continues night and day, there were more than 250 air strikes on this area in one day,” Hassan Haj Ali, head of Liwa Suqour al-Jabal, a rebel group fighting in northwest Syria, told Reuters.\n“Why did the opposition that left Geneva complain about the offensive in Aleppo, which is actually targeted against Jabhat al-Nusra (Nusra Front) and other radical extremist groups?” said Russia’s ambassador to the United Nations in Geneva, Alexey Borodavkin.\nBut swathes of the country are still in the hands of armed rebels, including Islamic State in the east, Kurdish militia in the north, and a mosaic of groups in the west who have been the target of many of the Russian air strikes.\n\n\n**Silhouette Value:** 0.16239261627197266\n\n#### The New York Times: Syrian Forces Press Aleppo, Sending Thousands Fleeing \nThe bakers couldn’t find salt for their bakeries.” The blockade on the road will most likely force cargo to be rerouted through Idlib Province, where the territory around the border crossing with Turkey is controlled by the Qaeda-linked Nusra Front.\n“This would provide the government with substantial leverage to eventually negotiate over the future of the city from a position of strength,” Mr. Strack wrote, adding that residents of Aleppo “would probably face a humanitarian crisis, as already seen in other besieged towns such as Madaya, but on a much larger scale.”\nIf the government and its allies advance farther south, they could surround rebels in Aleppo and employ the type of “starve or surrender” siege the government has used elsewhere.\nWhere should we go?” A man who said he was from Homs Province, several hundred miles to the south, said he had fled to one town after another in Aleppo Province, always chased by bombardments and shelling.\nAirstrikes and bombardments in the area may indicate that government forces plan on pressing south to cut the Idlib road as well and surround Aleppo.\n\n\n**Silhouette Value:** 0.018008152022957802\n\n#### Vice News: Russia Says It's 'in Bad Taste' to Blame It for Failed Syria Peace Talks \nRelated: The Syrian Regime Is Close to a Victory That Could Turn the War The Russian-aided offensive in Aleppo was condemned by opposition representatives gathered in Geneva for what were supposed to be UN-brokered negotiations.\n\"On the one hand, the Syrian regime claims to discuss peace in Geneva, and on the other hand, it intensifies its military offensive against opposition groups with which it is supposed to discuss, and imposes on the city of Aleppo an unprecedented torrent of fire,\" said Delattre.\nWhile he said Russia was \"upset\" that the Geneva talks had let out, Churkin said Moscow was \"preparing some ideas on how to move things forward\" to be delivered to the International Syria Support Group (ISSG) when it meets in Munich on February 11.\n\"The Syrian regime with the support of Russia are responsible for the situation as it is and for the fact that the opposition simply can simply not negotiate with… a gun to their head.\"\nRelated: The Syrian Regime Is Close to a Victory That Could Turn the War France's UN ambassador Francois Delattre also spoke after the council session on Friday, and blasted the government of Bashar al-Assad and Russia.\n\n\n**Silhouette Value:** 0.31655505299568176\n\n\n----\n### 9. Friday's spectacular volcanic eruption in Japan, in one GIF (5 articles)\n\n#### Gizmodo: Sakurajima Volcano Erupts in a Spectacular Display of Lightning and Lava \nResidential areas at the foot of the volcano “could be gravely affected,” as noted in the Japan Times, but Kazuhiro Ishihara from Kyoto University told NHK that people living nearby needn’t worry because video images show rocks flying “only” a mile or so from the mountain’s top.\nMount Sakurajima is an active volcano, and ongoing eruptions are expected.\nEarlier today, a volcano near the city of Kagoshima in Japan erupted, spewing lava and hurtling rocks nearly two miles away.\nNo reports of injuries have been reported, but officials with Japan’s Meteorological Agency have cordoned off the area, expanding an existing no-entry zone around the volcano to a 1.2 mile (2 km) radius.\nThe volcano is just 30 miles from the Sendai nuclear plant, but officials says there’s no immediate cause for concern.\n\n\n**Silhouette Value:** 0.7646558284759521\n\n#### Mashable: Famous Japan volcano erupts spectacularly with fiery lightning \n A well-known volcano erupted Friday evening in southern Japan with a fiery blast that sent lava rolling down its slope.\nJapan's Meteorological Agency said Sakurajima on the island of Kyushu erupted at around 7 p.m. (1000 GMT).\nJapanese television showed an orange burst out of the side of the volcano, near the summit, accompanied by lightning-like flashes.\nThe 2014 eruption of Mount Ontake in central Japan killed 57 people.\nFriday's eruption, while dramatic, was average compared to Sakurajima's past eruptions, Kyoto University volcanologist Kazuhiro Ishihara told NHK.\n\n\n**Silhouette Value:** 0.7341523170471191\n\n#### Refinery 29: Mount Sakurajima Japan Volcano Erupt Lava \nWhile the scene, broadcast on the local news, was certainly dramatic, one volcanologist told a public broadcaster that Friday's eruption wasn't anything special compared to what they've seen before from Mount Sakurajima, the AP reported.\nA volcano in southern Japan erupted in a fashion that seemed made for the movies on Friday, creating a burst of lava, lightning, and smoke that was captured on video.The blast, which Japan's Meteorological Agency said occurred at about 7 p.m. local time, was expected to send rocks flying more than a mile, according to the Associated Press.\nWatch the dramatic video of the eruption below:\nThat might not be so surprising considering that Japan is, as the AP notes, home to more than 100 volcanos.\nThe volcano on the island of Kyushu is located just 31 miles from a nuclear power plant, according to The Japan Times.\n\n\n**Silhouette Value:** 0.7107035517692566\n\n#### Vox: Friday's spectacular volcanic eruption in Japan, in one GIF \nHere's the eruption, slightly sped up, in GIF form: Japan's meteorological agency issued a level 3 warning, telling people to stay away from the volcano.\nVolcanic eruptions aren't unusual in Japan, which has more than 100 active volcanoes.\nThe full video shows the scope of the dramatic eruption:\nJapan's Sakurajima volcano, after months of calm, exploded at 7 pm Japan time Friday, creating a spectacular eruption against the night sky.\nBut since September, its last major eruption, the volcano had been unusually quiet, according to the Associated Press.\n\n\n**Silhouette Value:** 0.7968440651893616\n\n#### Wired: Sakurajima Lets Out a Spectacular Eruption After Months of Quiet \nI've seen some brief reports of a lava flow from the eruption as well, but this would be a bit of a surprise based on Sakurajima's usual eruption style.\nIf you watch the – video of the eruption, you can see incandescent volcanic bombs and ash being hurled hundreds of meters into the air—and the eruption even generated some of its own lightning.\nWhen it is in an eruptive period, the volcano can regularly throw volcanic bombs and ash multiple kilometers from the active vent—this eruption was doing just that.\nThings had been quiet at Japan's Sakurajima for the past few months, but today the volcano unleashed an impressive explosive eruption.\nImages and video of the eruption show those glowing blocks of debris moving downhill, but those are not lava flows.\n\n\n**Silhouette Value:** 0.7400749921798706\n\n\n----\n### 10. Sick Baby Sea Lion Found in California Restaurant's Booth (5 articles)\n\n#### CNN: Sea lion pup rescued after napping at restaurant \n (CNN)An underfed but overly cute sea lion cub is getting a lot of TLC after it waddled into an empty upscale California restaurant without a reservation.\nSeaWorld said the cutie likely sought food and shelter from a higher than normal tide.\nA SeaWorld team was called to the restaurant to pick up the malnourished sea lion.\nWhen food is farther away, the mothers are away from the pup too long in search of food, and return with little food or too few nutrients for a growing sea lion.\nThe federal government last year reported a record number of sea lion \"strandings.\"\n\n\n**Silhouette Value:** 0.7988306879997253\n\n#### Mashable: Baby sea lion parks itself at upscale restaurant for a little brunch \nA hungry sea lion pup, weighing only 20 pounds, sat itself down at The Marine Room, an upscale seafood restaurant in San Diego, California, Thursday morning.\nThe cute baby sea lion certainly delighted the guests who were dining around it.\nAfter taking a few more pictures, the restaurant contacted a Sea World San Diego team to come and rescue the pup.\nMany sea lion pups have been greatly effected by changes in their environment and El Niño.\nThe National Oceanic and Atmospheric Association has observed that the unusually warm water forces mother sea lions to hunt further out for prey — leaving their pups (who are dependent on their milk) for longer periods of time.\n\n\n**Silhouette Value:** 0.7580787539482117\n\n#### People: Sick Baby Sea Lion Found in California Restaurant's Booth \nThe team found the 8-month-old female sea lion alert but suffering from several health problems, including dehydration and malnourishment.\nThe employees of Marine Room came to work on Thursday morning to find a sea lion pup lying in one of the ocean view booths, reports The Los Angeles Times.\nRescuers took the sea lion to their center, where they gave her fluids and treatment.\nConcerned for the animal, who was barely moving, the restaurant’s staff called a SeaWorld rescue team for help.\nA La Jolla, California, sea lion sought refuge in a restaurant without a reservation.\n\n\n**Silhouette Value:** 0.8151916265487671\n\n#### The New York Times: A Hungry Sea Lion Wanders Into a Restaurant ... \nAbout 8 a.m. Thursday, Leslie Tovar, a manager for the Shores Restaurant, another of the club’s restaurants, was on the grounds when she got a call from a custodian at the Marine who was “vacuuming up the floor and happened to come across a baby sea lion that matched the interior very well.” “He said there was a sea lion in the dining room,” Ms. Tovar said in a telephone interview Friday.\n“He was a little bit early for his high tide breakfast reservation.” The pup was eventually rescued and taken to San Diego’s SeaWorld.\nAt one point, he said, the sea lion pup looked out the window toward the ocean, as if to say, “Can I go back now?” An earlier version of this article misidentified one of the California counties where experts have noticed a rise in the number of stranded sea lions.\nA hungry sea lion pup wandered off the beach and into a fancy seaside San Diego restaurant Thursday morning, took one of the best seats in the house and peered out the window at the waves as if preparing to order a big plate of sardines.\nThe restaurant, the Marine Room, does not open for dinner until 5:30 p.m. — unless it is offering one of its special “high-tide breakfasts.” Bernard Guillas, the executive chef at the restaurant, posted photos of the pup, curled up or looking out the window, on his Facebook page Thursday.\n\n\n**Silhouette Value:** 0.7855299115180969\n\n#### Vice: A Starving Sea Lion Dragged Itself to a San Diego Restaurant Booth \nIt is now being cared for at SeaWorld's Animal Rescue Center in San Diego.\nThe restaurant's owners promptly called SeaWorld for help, and workers came to the aid of the pup.\nThe sea lion is the 47th the company says it has rescued this year, along with other marine mammals.\nMarine biologists have collected thousands of sick and dead pups as a result.\nIt wandered in searching for food and parked itself in a booth of the Marine Room, an upscale restaurant, the AP reports, creating an image that was simultaneously adorable and also pretty grim, since the pup was severely underweight and dehydrated.\n\n\n**Silhouette Value:** 0.7447945475578308\n\n\n\n## Summaries (by the best clusters):\n\n----\n### 1. Manuel Valls warns terrorist threat is here to last (2 articles)\n\n#### Business Insider: Manuel Valls warns terrorist threat is here to last\nValls, defending state of emergency rules that have allowed police conduct thousands of house searches in just a few months, also said over 2,000 French residents were believed to be involved with jihadi networks based in Syria and Iraq.\nBy Elizabeth Pineau PARIS (Reuters) - Thousands of house searches since November's Islamist attacks in Paris have helped foil another terrorist plot, French Prime Minister Manuel Valls said on Friday as his government sought to extend emergency rule.\nIn 2015, 15 terror plots were foiled by the French security services, he said.\nIn the three months since the attacks on Paris, police have carried out 3,289 house searches, placed 341 people in custody, put 407 under house arrest and confiscated 560 weapons, 42 of them war-grade, the prime minister said.\n\"The terrorist threat is here, and here to last,\" Valls told the National Assembly, where the government is asking lawmakers to extend the state of emergency to the end of May and amend the Constitution so people convicted on terror charges can be stripped of their citizenship.\n\n\n**Silhouette Value:** 0.972147524356842\n\n#### Reuters: French PM defends emergency rule, says terror threat 'here to last'\nValls, defending state of emergency rules that have allowed police conduct thousands of house searches in just a few months, also said over 2,000 French residents were believed to be involved with jihadi networks based in Syria and Iraq.\nPARIS (Reuters) - Thousands of house searches since November’s Islamist attacks in Paris have helped foil another terrorist plot, French Prime Minister Manuel Valls said on Friday as his government sought to extend emergency rule.\nIn 2015, 15 terror plots were foiled by the French security services, he said.\nIn the three months since the attacks on Paris, police have carried out 3,289 house searches, placed 341 people in custody, put 407 under house arrest and confiscated 560 weapons, 42 of them war-grade, the prime minister said.\n“The terrorist threat is here, and here to last,” Valls told the National Assembly, where the government is asking lawmakers to extend the state of emergency to the end of May and amend the Constitution so people convicted on terror charges can be stripped of their citizenship.\n\n\n**Silhouette Value:** 0.9721491932868958\n\n\n----\n### 2. Whooping Cough Booster Shot May Offer Only Short-Term Protection (2 articles)\n\n#### CNN: Whooping cough protection fades fast after Tdap, study finds\nRethinking vaccine strategies The researchers found that the pertussis cases in the study, whether in vaccinated or unvaccinated children, were mild or moderate.\nOne possibility could be to give children Tdap only if a pertussis outbreak is on the horizon, which would require local health departments and medical centers to do regular surveillance, she added.\nBy now, it is not that surprising that protection against pertussis from Tdap is short lived, said Dr. James D. Cherry, distinguished research professor in the David Geffen School of Medicine at the University of California, Los Angeles.\nShe and her colleagues conducted a study showing the risk of pertussis increased by additional 42% for each year after DTaP immunization.\nThe bigger concern than improving immunity among adolescents, who generally have mild disease from pertussis, is how to protect babies -- especially those younger than 3 months old -- in whom pertussis can be deadly, Cherry said.\n\n\n**Silhouette Value:** 0.8583424687385559\n\n#### The New York Times: Whooping Cough Booster Shot May Offer Only Short-Term Protection\nThe rapidly fading effectiveness of the pertussis booster vaccine may help explain recent widespread outbreaks of whooping cough.\nThe United States stopped using a whole-cell pertussis vaccine in the 1990s and began using an acellular version called DTaP.\nFive vaccinations are given during childhood, and a booster vaccine, called the Tdap, is given to adolescents and adults.\nOr we could vaccinate whenever there is an outbreak.” Dr. Klein added that the vaccination of pregnant women is effective in preventing pertussis in newborns, and that all pregnant women should get the Tdap vaccine in the third trimester of pregnancy.\nResearchers looked at 1,207 pertussis cases among children who had had the acellular vaccine in childhood.\n\n\n**Silhouette Value:** 0.8615314364433289\n\n\n----\n### 3. Morocco turns on what will become the world’s largest solar power plant (2 articles)\n\n#### Gizmodo: Morocco Switches on First Phase of the World's Largest Solar Plant\nWith the extra mirrors in place, the plant will generate 580 megawatts of electricity—enough to provide energy for 1.1 million people.But, as our own George Dvorsky has pointed out, that wasn’t always to be the case.\nThe new installation already creates 160 megawatts of power and is expected to grow to cover 6,000 acres by 2018—making it the largest in the world.The first wave of power production is known as Noor 1.\nYesterday, Morocco switched on the first section of its new Ouarzazate solar power plant.\nWhen those sections come online, the whole plant will cover an areas of over 6,000 acres, which is larger than the country’s capital city of Rabat.\nInterventions by the African Development Bank and the Moroccan government saved the project, though, and are now using it to meet Morocco’s own power demands.\n\n\n**Silhouette Value:** 0.8335263729095459\n\n#### The Verge: Morocco turns on what will become the world’s largest solar power plant\nIt's already one of the biggest solar power grids in the world, capable of being seen from space.\nMorocco gets about 3,000 hours of sunlight per year, so there will be plenty of solar energy to harness.\nThe plant already spans thousands of acres and is capable of generating up to 160 megawatts of power.\nIt's just the first phase of a planned project to bring renewable energy to millions Right now, the solar farm is made up of 500,000 curved mirrors, each standing at about 40 feet tall.\nIt's all part of Morocco's plan to get up to 42 percent of its power from renewable energies at home, such as solar, wind, and hydropower.\n\n\n**Silhouette Value:** 0.8566669225692749\n\n\n----\n### 4. The Pentagon Just Released 200 Long-Awaited Photos Related to Detainee Abuse (4 articles)\n\n#### CNN: Pentagon releases 198 photos of detainees\nRELATED: Judge orders Pentagon to release pictures of detainees  The release of the photos was the result of a Freedom of Information Act lawsuit the American Civil Liberties Union brought against the Defense Department in 2004.\nThe ACLU also argued that the Defense Department must individually review each photo and explain why its release would put Americans in danger to attempt to justify holding back the information.\nWashington  (CNN)The Pentagon released 198 photos Friday, several of which appear to show injuries suffered by detainees after allegedly experiencing abuse while held in Iraq and Afghanistan during the George W. Bush administration.\n\"We're still pursuing our case for the remaining secret photos, which we think are very important because a complete picture is necessary to show the full extent of the abuse,\" ACLU spokesman Josh Bell told CNN.\n\"The disclosure of these photos is long overdue, but more important than the disclosure is the fact that hundreds of photographs are still being withheld,\" said ACLU Deputy Legal Director Jameel Jaffer.\n\n\n**Silhouette Value:** 0.8378629684448242\n\n#### The Hill: Pentagon releases 198 photos of alleged detainee abuse \n“The disclosure of these photos is long overdue, but more important than the disclosure is the fact that hundreds of photographs are still being withheld,” ACLU deputy legal director Jameel Jaffer said in a statement.\nThe photos were released as a result of a lawsuit from the American Civil Liberties Union, which is pressing the Pentagon to release an entire trove of about 2,000 photos.\nThe Pentagon on Friday released nearly 200 photos showing bruises, cuts and scars suffered by detainees who were alleged to have suffered abuse.\nIn 2009, the Obama administration promised to release the photos, but Congress passed a law that allowed them to remain classified if the Defense secretary certified their release would jeopardize national security.\nThe 198 photos released Friday were part of investigations that found 14 substantiated allegations of abuse and 42 unsubstantiated ones, according to a Pentagon statement.\n\n\n**Silhouette Value:** 0.7947308421134949\n\n#### The New York Times: Pentagon Releases Small Portion of Photos From Detainee Abuse Cases\nThat case has resulted in the release of many documents and memos about abusive interrogation practices, but it ran into turbulence in 2009 over the photos.\nAfter making public Bush-era memos about torture in response to the same lawsuit, the Obama administration was initially going to comply with an order to release the first group of pictures from the detainee abuse investigations as well.\nWhat’s in the 1,800 photographs the government still hasn’t released?” Cmdr.\nThe photographs are a focus of a Freedom of Information Act lawsuit filed in 2004 by the American Civil Liberties Union in the wake of the Abu Ghraib prison torture scandal.\nHowever, the military is continuing to block the disclosure of about 1,800 other photos from the same criminal investigations, saying that their release would endanger American service members serving abroad.\n\n\n**Silhouette Value:** 0.8243087530136108\n\n#### Vice News: The Pentagon Just Released 200 Long-Awaited Photos Related to Detainee Abuse\nThe photographs, taken by military investigators in 2004 and 2006, were released in response to a long-running Freedom of Information Act (FOIA) lawsuit filed against the US government by the ACLU, which has sought records pertaining to the treatment of detainees in custody of the US military.\nAs VICE News previously reported, a review we conducted of Army criminal investigative reports that probed the detainee abuse allegations contained detailed descriptions of the pictures that are still being withheld.\nRelated: Up to 2,100 Photos of US Soldiers Abusing Prisoners May Soon Be Released \"These photos fail to show a single act of abuse which the government's own records describe as having taken place,\" Dr. Vincent Iacopino, medical director of Physicians for Human Rights (PHR), a party to the lawsuit seeking the release of the images, said in a statement.\nThe Department of Defense (DOD) released 198 photographs on Friday from Army and Navy criminal investigative files related to allegations of detainee abuse in Iraq and Afghanistan, the first time the US government has ever disclosed such images.\nRelated: A Judge Has Ordered the US Government to Release Thousands of Detainee Abuse Photos More than a dozen other photographs, Army criminal investigative reports say, show US Army soldiers in Afghanistan pointing assault rifles and pistols at the heads and backs of hooded and bound detainees, and soldiers kicking and punching detainees.\n\n\n**Silhouette Value:** 0.8539382815361023\n\n\n----\n### 5. Edgar Mitchell, Apollo 14 astronaut, moon walker, dies (2 articles)\n\n#### CNN: Edgar Mitchell, Apollo 14 astronaut, moon walker, dies\nMitchell was part of the support crew for the Apollo 9 and Apollo 10 missions.\n\"On behalf of the entire NASA family, I would like to express my condolences to the family and friends of NASA astronaut Edgar Mitchell,\" NASA Administrator Charles Bolden said in a statement.\nMitchell, who was the lunar module pilot, found the trip to be a profound experience.\nMitchell became the sixth man to walk on the lunar surface.\n\"He believed in exploration, having been drawn to NASA by President Kennedy's call to send humans to the moon.\n\n\n**Silhouette Value:** 0.8249703645706177\n\n#### The New York Times: Edgar D. Mitchell, Sixth Moonwalking Astronaut, Dies at 85\nCommander Mitchell, who had a doctorate in flight sciences, had long maintained a parallel interest in the study of consciousness, a fascination that was heightened during his return from the moon.\nApollo 14 was Commander Mitchell’s only spaceflight.\nFor the 14th mission, scientists were counting on Commander Mitchell and Captain Shepard to be the first astronauts to return with a large collection of rocks from high elevations, where some might be old enough to provide clues to the moon’s origin and its evolution.\nNASA announced his death, which came one day before the 45th anniversary of his moon landing.\nThe Apollo 14 flight, launched on Jan. 31, 1971, took Commander Mitchell and his fellow Navy officer, Capt.\n\n\n**Silhouette Value:** 0.8188241720199585\n\n\n----\n### 6. California doctor gets 30 years to life in landmark overdose case (2 articles)\n\n#### CNN: Southern California doctor sentenced in overdose deaths\nThe doctor was charged with prescribing addictive narcotics to patients who didn't need them.\nMedical experts and law enforcement officials blame reckless and criminal prescribing of opiate-based painkillers and other potent narcotics by doctors like Tseng for contributing to the problem.\nTseng is the only doctor in the United States to be convicted of murder for recklessly prescribing drugs, said Los Angeles County Deputy District Attorney John Niedermann, the lead prosecutor on the case.\nTseng's case is in some ways emblematic of the role so-called dirty doctors play in creating and sustaining addicts, according to law enforcement officials interviewed by CNN.\nAssistant U.S. Attorney Ann Luotto Wolf, who prosecuted both doctors, said she focused on drug dealing charges because they carried sufficiently stiff sentences and were not subject to cause-of-death determinations, which can be very complicated in doctor prosecutions.\n\n\n**Silhouette Value:** 0.7968884706497192\n\n#### Reuters: California doctor gets 30 years to life in landmark overdose case\nAt trial, prosecutors pointed to nine overdose deaths associated with Tseng’s practice in less than three years, during which they said she had made $5 million from her clinic, dispensing addictive medications to patients unnecessarily.\nProsecutors said Tseng’s conviction after a six-week trial marked the first time in which a U.S. physician was found guilty of murder for over-prescribing drugs.\nDefense lawyers argued at trial that her patients put themselves in jeopardy by taking drug dosages far in excess of what Tseng prescribed.\nThe case against Dr. Hsiu Ying “Lisa” Tseng, 46, comes amid what public health officials describe as a national epidemic of drug abuse.\nA Los Angeles jury in October convicted Tseng of three counts of second-degree murder in a case prosecutors said showed she put greed above patients’ wellbeing.\n\n\n**Silhouette Value:** 0.8248116970062256\n\n\n----\n### 7. Google AI Will Compete Against Go World Champion Lee Sedol On YouTube (2 articles)\n\n#### Gizmodo: Google AI Will Compete Against Go World Champion Lee Sedol On YouTube\nDeepMind founder Demis Hassabis announced the competition in a tweet.The match between Sedol and AlphaGo will have many similarities to the famous 1996 chess match between chess grandmaster Gary Kasparov and IBM’s Deep Blue computer.\nIt’s official: The world champion of Go, Lee Sedol, will face off against Google Deepmind’s powerful artificial intelligence, called AlphaGo.A week ago, Google DeepMind’s team claimed to have built the best AI for the game in a scientific paper, and issued a public challenge to Sedol.\nIn that match, IBM’s Deep Blue artificial intelligence was the first to defeat a professional chess grandmaster.In the upcoming match between Sedol and AlphaGo, DeepMind’s artificial intelligence will reason through many more combinations of moves than IBM’s computer ever did.\nDeepMind hopes it can prove that a powerful artificial intelligence is capable of beating the best human player in one of the most mathematically complicated board games ever created.The match between Sedol and DeepMind will be broadcast live on YouTube beginning March 9.\nBy comparison, chess only has 10 to the power of 60 possible scenarios.AlphaGo already successfully defeated three-time European Go champion Fan Hui in a series of five matches, but Sedol is considered to be a different challenge entirely.\n\n\n**Silhouette Value:** 0.8010242581367493\n\n#### The Verge: Google’s AI will battle Go world champion live on YouTube\nHowever, the computer only beat the game's European champion, and in March, DeepMind's AlphaGo AI will take on the world champion, with YouTube live streaming the series of games.\nDeepMind's founder Demis Hassabis announced details about the competition on Twitter: the five-game matchup will take place in Seoul on March 9th to the 15th (there'll be a game a day apart from on the 11th and 14th), with AlphaGo facing off against the world's top-ranked player, South Korea's Lee Sedol, for a $1 million prize.\n\"I have heard that Google DeepMind’s AI is surprisingly strong and getting stronger, but I am confident that I can win at least this time,\" he said in a press statement.\nEarlier this month, Google's AI company DeepMind announced that it had built a system of neural networks capable of beating a champion Go player.\nDeepMind's win against Hui has been described as a \"decade earlier than expected,\" and any setback would likely be temporary — just as it was with Deep Blue.\n\n\n**Silhouette Value:** 0.7942807674407959\n\n\n----\n### 8. Outrage Grows as Italy Investigates Student’s Death in Egypt (2 articles)\n\n#### Reuters: Italian student killed in Egypt criticized Cairo govt. in articles\n“But we ask for the truth.” With Italian police specialists en route to Cairo to participate in the investigation, a spokesman at Egypt’s Foreign Ministry said on Facebook both countries had “a mutual desire to uncover the reasons behind this incident”.\nROME (Reuters) - An Italian student found dead by a roadside in Cairo with cigarette burns and other signs of torture on his body had written articles critical of the Egyptian government, according to the Italian newspaper that published them.\nOn Thursday, the Italian Foreign Ministry “urgently” summoned the Egyptian Ambassador to express concern about the student’s death, and Prime Minister Matteo Renzi telephoned Sisi, asking for a joint investigation and the swift return of his body to Italy.\n“President Abdel Fattah al-Sisi presides over the Egyptian parliament with the highest number of police and military personnel in the history of the country, and Egypt ranks among the worst offenders with respect to press freedom,” Regeni wrote in the first paragraph of the story.\nRegeni, a postgraduate student at Britain’s University of Cambridge, disappeared on the fifth anniversary of the start of the uprising that ended former leader Hosni Mubarak’s 30-year rule.\n\n\n**Silhouette Value:** 0.8160098195075989\n\n#### The New York Times: Outrage Grows as Italy Investigates Student’s Death in Egypt\nThere was no indication that Mr. Regeni’s writing led to his death, but the article contributed to the broader Italian outrage over Mr. Regeni’s injuries as news outlets pointed an accusatory finger at the Egyptian security forces.\nBut in Mr. Regeni’s case, the strongest suspicions have focused on the security forces because the circumstances of his disappearance match those of many Egyptians who have vanished into secretive detention facilities, run by the security forces, where torture is common.\nThat was proof, said Egypt’s ambassador to Rome, Amr Helmy, of the two countries’ “mutual desire to identify the culprits who committed this criminal, shameful act.” But before the Italians had landed, Egyptian investigators claimed to have made a breakthrough that, to critics, raised the specter of a cover-up.\nCAIRO — The furor surrounding the death of an Italian student whose body was discovered Wednesday on an Egyptian roadside grew Friday as Italian investigators flew to Cairo to help find his killers, and it emerged that the young man had secretly written from Egypt for a left-wing Italian newspaper.\nThe furor over Mr. Regeni received limited coverage on Egypt’s pro-government television channels, although some lashed out at foreign criticism, which was painted as part of an Islamist plot to destroy Egypt’s relations with Italy.\n\n\n**Silhouette Value:** 0.7784402966499329\n\n\n----\n### 9. US traffic fatalities rose slightly last year, but don't panic just yet (2 articles)\n\n#### Reuters: U.S. traffic deaths increase sharply in 2015\n“It’s time to drive behavioral changes in traffic safety and that means taking on new initiatives and addressing persistent issues like drunk driving and failure to wear seat belts.” The fatality rate was 1.1 deaths per 100 million miles traveled in 2015, compared with 1.05 deaths per 100 million miles the previous year.\nThe U.S. National Highway Traffic Safety Administration, a branch of the Transportation Department, did not immediately have an explanation for the increase in traffic deaths to an estimated 26,000 in 2015, which is the highest level since 2008.\nWASHINGTON, Feb 5 (Reuters) - Traffic deaths in the United States rose 9.3 percent in the first nine months of 2015 compared to same period a year before as low gasoline prices increased road travel, the U.S. Transportation Department said on Friday.\nThe pace of road deaths is greater than the growth in vehicle travel.\nU.S. traffic deaths had been falling with a 1.2 percent decline in 2014 and more than 22 percent from 2000 to 2014.\n\n\n**Silhouette Value:** 0.7950366735458374\n\n#### The Verge: US traffic fatalities rose slightly last year, but don't panic just yet\nIf people are driving more miles, it's natural that traffic accidents (and then fatalities) would increase as well, as long as technology and behavior remain the same.\nIn 2005, we saw traffic fatalities reach 1.43 per 100 million vehicle miles, well above what we're seeing these days.\nBy any measure, cars — and the people who ride in them — are safer than they've ever been, even with this slight uptick in fatalities.\nAnd, unsurprisingly, traffic deaths per vehicle mile rose as well, from 1.05 per 100 million vehicle miles for the first nine months of 2014 up to 1.10 for the first nine months of 2015, according to data from the National Highway Traffic Safety Administration (NHTSA).\nTraffic fatalities in the US, for the first nine months of 2015, rose 9.3 percent from the year prior.\n\n\n**Silhouette Value:** 0.7798502445220947\n\n\n----\n### 10. This secret code will let you play chess on Facebook Messenger (2 articles)\n\n#### Mashable: This secret code will let you play chess on Facebook Messenger\nFrom the amazingly intricate easter egg department: Facebook has a hidden, fully functional, graphical game of chess embedded into its Messenger, and anyone can play.\nTo move a pawn from the starting position, for example, you'd type \"@fbchess Pb4\".\nTwo games of Facebook's hidden chess started in two Messenger windows.\nTo start a game, open a Messenger conversation with someone and type \"@fbchess play\".\nThere's quite a bit more to it; to get the full list of commands, type \"@fbchess help\" into Messenger.\n\n\n**Silhouette Value:** 0.7824823260307312\n\n#### The Verge: Here's how to play Facebook Messenger's secret chess game\nSo, \"@fbchess Pe4\" would move your pawn (P) to square E4, for example.\nWant to play chess with your friends on Facebook?\nType \"@fbchess help\" You can also type \"@fbchess help\" for instructions, but here are the basics: K is for king, Q for queen, B for bishop, N for knight, R for rook, and P for pawn.\nB2xc5 will have your bishop in the second rank, or horizontal row, to square c5); the command \"=\" to promote a pawn to a queen (e.g.\nYou can also use \"@fbchess resign\" to end a match, show you and your friend's vital statistics with \"@fbchess stats,\" and pick which color you start with by typing \"@fbchess play white\" or \"@fbchess play black.\"\n\n\n**Silhouette Value:** 0.7903338074684143\n\n"
     },
     "execution_count": 43,
     "metadata": {},
     "output_type": "execute_result"
    }
   ],
   "source": [
    "%%jinja markdown\n",
    "# News summarization\n",
    "\n",
    "### Dates covered: {{ min_date.strftime(\"%Y-%m-%d\") }} - {{ max_date.strftime(\"%Y-%m-%d\")}} \n",
    "\n",
    "### Number of topics: {{ unique_clusters | length }}\n",
    "\n",
    "### Total Number of articles: {{ filtered_df | length }}\n",
    "\n",
    "## Summaries (by the biggest clusters):\n",
    "{% for topic in topics1[:TOPICS_TO_SHOW] %}\n",
    "----\n",
    "### {{loop.index}}. {{ topic['title'] }} ({{ topic['articles'] | length }} articles)\n",
    "{% for article in topic['articles'] %}\n",
    "#### {{ article['publication'] }}: {{ article['title'] }} \n",
    "{{ article['summary'] }}\n",
    "\n",
    "\n",
    "**Silhouette Value:** {{ article['silhouette_values'] }}\n",
    "{% endfor %}\n",
    "{% endfor %}\n",
    "\n",
    "## Summaries (by the best clusters):\n",
    "{% for topic in topics2[:TOPICS_TO_SHOW] %}\n",
    "----\n",
    "### {{loop.index}}. {{ topic['title'] }} ({{ topic['articles'] | length }} articles)\n",
    "{% for article in topic['articles'] %}\n",
    "#### {{ article['publication'] }}: {{ article['title'] }}\n",
    "{{ article['summary'] }}\n",
    "\n",
    "\n",
    "**Silhouette Value:** {{ article['silhouette_values'] }}\n",
    "{% endfor %}\n",
    "{% endfor %}\n"
   ]
  },
  {
   "cell_type": "code",
   "execution_count": null,
   "id": "3aed989d",
   "metadata": {
    "collapsed": false,
    "jupyter": {
     "outputs_hidden": false
    }
   },
   "outputs": [],
   "source": []
  }
 ],
 "metadata": {
  "kernelspec": {
   "display_name": "Python 3 (ipykernel)",
   "language": "python",
   "name": "python3"
  },
  "language_info": {
   "codemirror_mode": {
    "name": "ipython",
    "version": 3
   },
   "file_extension": ".py",
   "mimetype": "text/x-python",
   "name": "python",
   "nbconvert_exporter": "python",
   "pygments_lexer": "ipython3",
   "version": "3.11.7"
  }
 },
 "nbformat": 4,
 "nbformat_minor": 5
}
